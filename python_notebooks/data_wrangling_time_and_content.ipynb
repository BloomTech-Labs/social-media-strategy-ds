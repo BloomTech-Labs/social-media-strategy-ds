{
 "cells": [
  {
   "cell_type": "code",
   "execution_count": 1,
   "metadata": {},
   "outputs": [],
   "source": [
    "import json \n",
    "import os\n",
    "import tweepy\n",
    "\n",
    "import plotly.express as px\n",
    "import pandas as pd\n",
    "from dotenv import load_dotenv"
   ]
  },
  {
   "cell_type": "code",
   "execution_count": 2,
   "metadata": {},
   "outputs": [],
   "source": [
    "from datetime import date\n",
    "import calendar"
   ]
  },
  {
   "cell_type": "code",
   "execution_count": 3,
   "metadata": {},
   "outputs": [],
   "source": [
    "load_dotenv()\n",
    "\n",
    "TWITTER_API_KEY = os.getenv(\"TWITTER_API_KEY\")\n",
    "TWITTER_API_SECRET = os.getenv(\"TWITTER_API_SECRET\")\n",
    "TWITTER_ACCESS_TOKEN = os.getenv(\"TWITTER_ACCESS_TOKEN\")\n",
    "TWITTER_ACCESS_TOKEN_SECRET = os.getenv(\"TWITTER_ACCESS_TOKEN_SECRET\")\n",
    "\n",
    "auth = tweepy.OAuthHandler(TWITTER_API_KEY, TWITTER_API_SECRET)\n",
    "auth.set_access_token(TWITTER_ACCESS_TOKEN, TWITTER_ACCESS_TOKEN_SECRET)\n",
    "api = tweepy.API(auth, wait_on_rate_limit=True)"
   ]
  },
  {
   "cell_type": "code",
   "execution_count": 4,
   "metadata": {},
   "outputs": [],
   "source": [
    "chrisalbon_followers = api.followers_ids('chrisalbon')"
   ]
  },
  {
   "cell_type": "code",
   "execution_count": 10,
   "metadata": {},
   "outputs": [],
   "source": [
    "class data_wrangling:\n",
    "    \n",
    "    # Definining api as a class variable (shared among all instances of the class) \n",
    "    api = tweepy.API(auth, wait_on_rate_limit=True)    \n",
    "    \n",
    "    def __init__(self, user_id, follower_count=10):\n",
    "        # instance variables (unique for each instance of the class)\n",
    "        self.user_id = user_id\n",
    "        self.follower_count = follower_count\n",
    "\n",
    "    def min_bin (mins):\n",
    "        l = []\n",
    "        for _min in mins:\n",
    "            if _min < 30:\n",
    "                l.append('00')\n",
    "            else:\n",
    "                l.append('30')\n",
    "\n",
    "        return l\n",
    "        \n",
    "        \n",
    "    # The first 10 ids of the user's followers\n",
    "    def followers_ids(self):\n",
    "        followers_ids = api.followers_ids(self.user_id)\n",
    "        return followers_ids\n",
    "    \n",
    "    def get_follower_data(self, followers_ids):\n",
    "        \n",
    "        times = []\n",
    "        text = []\n",
    "\n",
    "        # Loop through the follower_count (int) defined in instance\n",
    "        for followers in followers_ids[:self.follower_count]:\n",
    "\n",
    "            # Try and excepts statement to bipass an error that arises when we call a protected user's information\n",
    "            try:\n",
    "\n",
    "                favorited_tweets = api.favorites(id=f'{followers}')\n",
    "\n",
    "                # Fir each tweet that the follower liked, lets add it to the l string    \n",
    "                for tweet in range(len(favorited_tweets)):\n",
    "\n",
    "                    status = favorited_tweets[tweet]\n",
    "\n",
    "                    #convert to string\n",
    "                    json_str = json.dumps(status._json)\n",
    "\n",
    "                    #deserialise string into python object\n",
    "                    parsed = json.loads(json_str)\n",
    "                    # gets the created_at (time) and the text from the tweets the followers liked\n",
    "                    times.append(parsed.get('created_at'))\n",
    "                    text.append(parsed.get('text'))\n",
    "\n",
    "            except tweepy.TweepError:\n",
    "\n",
    "                pass\n",
    "\n",
    "        # seperates hours, mins into lists to be put into a df (leave hours as str to keep in military time for put request to backend)\n",
    "        hours, mins = [i[11:13] for i in times], [int(i[14:16]) for i in times]\n",
    "        \n",
    "        _min_bin = data_wrangling.min_bin(mins)\n",
    "         \n",
    "        # creates df with times and text\n",
    "        df = pd.DataFrame(data={'hours':hours, 'mins':mins, 'min_bin':_min_bin, 'text':text})\n",
    "        \n",
    "        df['time'] = df['hours'].astype(str) + ':' + df['min_bin'].astype(str)\n",
    "        \n",
    "        return df\n",
    "    \n",
    "    def optimal_time(self, df):\n",
    "        #Today's date\n",
    "        my_date = date.today()\n",
    "        # reformatted\n",
    "        day = my_date.strftime(\"%b %d %Y\")\n",
    "        # Day of week \n",
    "        day_and_date = calendar.day_name[my_date.weekday()][:3] + ' ' + day\n",
    "        optimal_time = df['time'].value_counts().idxmax()\n",
    "        return day_and_date + ' ' + optimal_time + ':00 UTC+0000'"
   ]
  },
  {
   "cell_type": "code",
   "execution_count": 11,
   "metadata": {},
   "outputs": [
    {
     "data": {
      "text/plain": [
       "'Tue Apr 21 2020 20:00:00 UTC+0000'"
      ]
     },
     "execution_count": 11,
     "metadata": {},
     "output_type": "execute_result"
    }
   ],
   "source": [
    "dw = data_wrangling('LambdaSchool', 5)\n",
    "fi = dw.followers_ids()\n",
    "get_follower_data = dw.get_follower_data(fi)\n",
    "dw.optimal_time(get_follower_data)"
   ]
  },
  {
   "cell_type": "code",
   "execution_count": 47,
   "metadata": {},
   "outputs": [
    {
     "data": {
      "text/plain": [
       "'21:30'"
      ]
     },
     "execution_count": 47,
     "metadata": {},
     "output_type": "execute_result"
    }
   ],
   "source": [
    "dw.optimal_time(get_follower_data)"
   ]
  },
  {
   "cell_type": "code",
   "execution_count": 40,
   "metadata": {},
   "outputs": [],
   "source": [
    "def military_time(col):\n",
    "    for i in col:\n",
    "        if len(i) == 4:\n",
    "            i = '0' + i\n",
    "        else:\n",
    "            pass\n",
    "    return col"
   ]
  },
  {
   "cell_type": "code",
   "execution_count": null,
   "metadata": {},
   "outputs": [],
   "source": []
  },
  {
   "cell_type": "code",
   "execution_count": 41,
   "metadata": {},
   "outputs": [
    {
     "data": {
      "text/plain": [
       "0     17:30\n",
       "1     17:00\n",
       "2     15:30\n",
       "3     12:30\n",
       "4      8:00\n",
       "5      0:00\n",
       "6      0:30\n",
       "7     20:30\n",
       "8     15:00\n",
       "9     13:00\n",
       "10    18:30\n",
       "11    12:00\n",
       "12     0:00\n",
       "13    17:00\n",
       "14    15:30\n",
       "15    15:00\n",
       "16    14:30\n",
       "17    14:30\n",
       "18    13:30\n",
       "19    13:30\n",
       "Name: time, dtype: object"
      ]
     },
     "execution_count": 41,
     "metadata": {},
     "output_type": "execute_result"
    }
   ],
   "source": [
    "military_time(get_follower_data['time'])"
   ]
  },
  {
   "cell_type": "code",
   "execution_count": 8,
   "metadata": {},
   "outputs": [
    {
     "data": {
      "text/plain": [
       "(2873, 4)"
      ]
     },
     "execution_count": 8,
     "metadata": {},
     "output_type": "execute_result"
    }
   ],
   "source": [
    "get_follower_data.shape"
   ]
  },
  {
   "cell_type": "code",
   "execution_count": 7,
   "metadata": {},
   "outputs": [],
   "source": [
    "get_follower_data.to_csv(\"get_follower_data.csv\")"
   ]
  },
  {
   "cell_type": "code",
   "execution_count": 6,
   "metadata": {},
   "outputs": [
    {
     "data": {
      "text/html": [
       "<div>\n",
       "<style scoped>\n",
       "    .dataframe tbody tr th:only-of-type {\n",
       "        vertical-align: middle;\n",
       "    }\n",
       "\n",
       "    .dataframe tbody tr th {\n",
       "        vertical-align: top;\n",
       "    }\n",
       "\n",
       "    .dataframe thead th {\n",
       "        text-align: right;\n",
       "    }\n",
       "</style>\n",
       "<table border=\"1\" class=\"dataframe\">\n",
       "  <thead>\n",
       "    <tr style=\"text-align: right;\">\n",
       "      <th></th>\n",
       "      <th>hours</th>\n",
       "      <th>mins</th>\n",
       "      <th>secs</th>\n",
       "      <th>text</th>\n",
       "    </tr>\n",
       "  </thead>\n",
       "  <tbody>\n",
       "    <tr>\n",
       "      <th>0</th>\n",
       "      <td>16</td>\n",
       "      <td>30</td>\n",
       "      <td>36</td>\n",
       "      <td>How to UNPIVOT multiple columns into tidy pair...</td>\n",
       "    </tr>\n",
       "    <tr>\n",
       "      <th>1</th>\n",
       "      <td>16</td>\n",
       "      <td>0</td>\n",
       "      <td>4</td>\n",
       "      <td>Shortest Path Algorithms, Part 2: Floyd�Warsha...</td>\n",
       "    </tr>\n",
       "    <tr>\n",
       "      <th>2</th>\n",
       "      <td>15</td>\n",
       "      <td>8</td>\n",
       "      <td>1</td>\n",
       "      <td>Code to run SQL queries 10 times faster than B...</td>\n",
       "    </tr>\n",
       "    <tr>\n",
       "      <th>3</th>\n",
       "      <td>14</td>\n",
       "      <td>41</td>\n",
       "      <td>43</td>\n",
       "      <td>New to Data Visualization? Start with New York...</td>\n",
       "    </tr>\n",
       "    <tr>\n",
       "      <th>4</th>\n",
       "      <td>4</td>\n",
       "      <td>57</td>\n",
       "      <td>47</td>\n",
       "      <td>I wrote a Colab notebook that introduces diffe...</td>\n",
       "    </tr>\n",
       "    <tr>\n",
       "      <th>...</th>\n",
       "      <td>...</td>\n",
       "      <td>...</td>\n",
       "      <td>...</td>\n",
       "      <td>...</td>\n",
       "    </tr>\n",
       "    <tr>\n",
       "      <th>2868</th>\n",
       "      <td>20</td>\n",
       "      <td>37</td>\n",
       "      <td>35</td>\n",
       "      <td>Potencialmente, el 20% de los trabajos pueden ...</td>\n",
       "    </tr>\n",
       "    <tr>\n",
       "      <th>2869</th>\n",
       "      <td>18</td>\n",
       "      <td>57</td>\n",
       "      <td>25</td>\n",
       "      <td>No quieres instalar CoronApp por miedo a que t...</td>\n",
       "    </tr>\n",
       "    <tr>\n",
       "      <th>2870</th>\n",
       "      <td>15</td>\n",
       "      <td>58</td>\n",
       "      <td>9</td>\n",
       "      <td>@GomezJuan46 Primera Clase..</td>\n",
       "    </tr>\n",
       "    <tr>\n",
       "      <th>2871</th>\n",
       "      <td>12</td>\n",
       "      <td>57</td>\n",
       "      <td>33</td>\n",
       "      <td>La economista jefe del FMI, Gita Gopinath, dec...</td>\n",
       "    </tr>\n",
       "    <tr>\n",
       "      <th>2872</th>\n",
       "      <td>4</td>\n",
       "      <td>21</td>\n",
       "      <td>9</td>\n",
       "      <td>Les voy a contar TODO lo que encontré en un ex...</td>\n",
       "    </tr>\n",
       "  </tbody>\n",
       "</table>\n",
       "<p>2873 rows × 4 columns</p>\n",
       "</div>"
      ],
      "text/plain": [
       "      hours  mins  secs                                               text\n",
       "0        16    30    36  How to UNPIVOT multiple columns into tidy pair...\n",
       "1        16     0     4  Shortest Path Algorithms, Part 2: Floyd�Warsha...\n",
       "2        15     8     1  Code to run SQL queries 10 times faster than B...\n",
       "3        14    41    43  New to Data Visualization? Start with New York...\n",
       "4         4    57    47  I wrote a Colab notebook that introduces diffe...\n",
       "...     ...   ...   ...                                                ...\n",
       "2868     20    37    35  Potencialmente, el 20% de los trabajos pueden ...\n",
       "2869     18    57    25  No quieres instalar CoronApp por miedo a que t...\n",
       "2870     15    58     9                       @GomezJuan46 Primera Clase..\n",
       "2871     12    57    33  La economista jefe del FMI, Gita Gopinath, dec...\n",
       "2872      4    21     9  Les voy a contar TODO lo que encontré en un ex...\n",
       "\n",
       "[2873 rows x 4 columns]"
      ]
     },
     "execution_count": 6,
     "metadata": {},
     "output_type": "execute_result"
    }
   ],
   "source": [
    "get_follower_data"
   ]
  },
  {
   "cell_type": "code",
   "execution_count": 19,
   "metadata": {},
   "outputs": [
    {
     "data": {
      "application/vnd.plotly.v1+json": {
       "config": {
        "plotlyServerURL": "https://plot.ly"
       },
       "data": [
        {
         "alignmentgroup": "True",
         "hoverlabel": {
          "namelength": 0
         },
         "hovertemplate": "hours=%{x}",
         "legendgroup": "",
         "marker": {
          "color": "#636efa"
         },
         "name": "",
         "offsetgroup": "",
         "orientation": "v",
         "showlegend": false,
         "textposition": "auto",
         "type": "bar",
         "x": [
          14,
          12,
          22,
          21,
          20,
          20,
          17,
          16,
          15,
          14,
          14,
          13,
          5,
          3,
          0,
          0,
          21,
          20,
          19,
          19,
          19,
          19,
          19,
          18,
          18,
          18,
          18,
          17,
          17,
          17,
          16,
          16,
          16,
          15,
          15,
          15,
          15,
          14,
          14,
          13,
          0,
          20,
          22,
          1,
          13,
          16,
          11,
          17,
          14,
          14,
          14,
          8,
          19,
          13,
          11,
          3,
          18,
          7,
          22,
          21,
          13,
          23,
          13,
          8,
          6,
          4,
          12,
          19,
          12,
          1,
          0,
          14,
          12,
          0,
          15,
          1,
          13,
          12,
          0,
          0,
          12,
          11,
          2,
          14,
          21,
          19,
          9,
          1,
          17,
          5,
          14,
          13,
          19,
          14,
          16,
          5,
          5,
          1,
          21,
          18,
          11,
          3,
          0,
          15,
          8,
          13,
          18,
          8,
          19,
          22,
          10,
          20,
          12,
          6,
          22,
          17,
          12,
          19,
          18,
          19,
          12,
          16,
          16,
          4,
          0,
          21,
          20,
          12,
          11,
          13,
          21,
          11,
          22,
          9,
          17,
          19,
          18,
          18,
          18,
          12,
          20,
          15,
          11,
          11,
          9,
          9,
          9,
          0,
          22,
          21,
          21,
          19,
          17,
          15,
          15,
          8,
          1,
          1,
          20,
          9,
          18,
          0,
          0,
          18,
          18,
          14,
          14,
          13,
          11,
          16,
          11,
          17,
          11,
          19,
          14,
          20,
          13,
          18,
          20,
          21,
          14,
          20,
          19,
          14,
          14,
          17,
          17,
          14,
          5,
          5,
          18,
          12,
          10,
          7,
          14,
          13,
          13,
          13,
          13,
          13,
          13,
          13,
          13,
          13,
          13,
          13,
          13,
          12,
          10,
          9,
          8,
          8,
          8,
          7,
          11,
          9,
          22,
          16,
          5,
          22,
          14,
          12,
          21,
          18,
          18,
          16,
          16,
          14,
          14,
          10,
          7,
          2,
          22,
          19,
          8,
          8,
          2,
          22,
          3,
          23,
          21,
          18,
          1,
          7,
          1,
          13,
          1,
          23,
          15,
          15,
          13,
          12,
          4,
          1,
          1,
          15,
          3,
          3,
          1,
          1,
          19,
          18,
          16,
          15,
          2,
          7,
          7,
          3,
          2,
          2,
          1,
          1,
          0,
          23,
          22,
          21,
          21,
          19,
          19,
          18,
          18,
          18,
          18,
          18,
          18,
          9,
          4,
          3,
          3,
          19,
          19,
          19,
          19,
          12,
          9,
          14,
          10,
          9,
          17,
          22,
          9,
          4,
          14,
          1,
          6,
          19,
          18,
          18,
          18,
          18,
          18,
          7,
          2,
          1,
          0,
          23,
          23,
          23,
          22,
          22,
          22,
          22,
          22,
          21,
          21,
          17,
          16,
          14,
          10,
          17,
          11,
          12,
          21,
          20,
          7,
          18,
          19,
          18,
          13,
          21,
          18,
          13,
          20,
          15,
          18,
          12,
          12,
          11,
          10,
          10,
          10,
          8,
          21,
          21,
          20,
          19,
          15,
          15,
          14,
          12,
          10,
          8,
          23,
          23,
          22,
          11,
          6,
          22,
          21,
          12,
          17,
          12,
          5,
          18,
          4,
          18,
          12,
          0,
          2,
          0,
          23,
          21,
          6,
          12,
          3,
          13,
          13,
          22,
          20,
          14,
          17,
          11,
          19,
          22,
          23,
          10,
          19,
          23,
          13,
          18,
          20,
          6,
          1,
          14,
          14,
          0,
          13,
          20,
          17,
          16,
          16,
          16,
          16,
          16,
          15,
          14,
          14,
          14,
          13,
          13,
          13,
          13,
          12,
          12,
          12,
          12,
          11,
          10,
          8,
          6,
          4,
          17,
          14,
          14,
          13,
          13,
          20,
          19,
          19,
          19,
          19,
          18,
          18,
          18,
          17,
          17,
          17,
          16,
          16,
          16,
          12,
          11,
          11,
          11,
          11,
          10,
          8,
          19,
          19,
          15,
          15,
          12,
          8,
          7,
          6,
          8,
          15,
          15,
          14,
          13,
          17,
          10,
          8,
          22,
          10,
          15,
          18,
          10,
          10,
          14,
          21,
          4,
          15,
          13,
          13,
          12,
          12,
          12,
          12,
          11,
          11,
          9,
          7,
          5,
          0,
          21,
          21,
          20,
          20,
          20,
          17,
          8,
          20,
          14,
          12,
          22,
          21,
          17,
          3,
          23,
          22,
          12,
          10,
          14,
          13,
          17,
          11,
          7,
          16,
          16,
          20,
          21,
          4,
          15,
          21,
          0,
          21,
          2,
          17,
          16,
          2,
          0,
          6,
          2,
          21,
          6,
          2,
          18,
          6,
          12,
          20,
          2,
          9,
          11,
          21,
          9,
          11,
          15,
          18,
          8,
          6,
          12,
          16,
          17,
          10,
          10,
          8,
          9,
          15,
          16,
          15,
          7,
          6,
          16,
          16,
          15,
          12,
          11,
          11,
          9,
          9,
          7,
          7,
          4,
          1,
          1,
          1,
          23,
          23,
          15,
          14,
          14,
          13,
          12,
          10,
          6,
          2,
          19,
          15,
          13,
          9,
          4,
          13,
          10,
          8,
          7,
          4,
          17,
          16,
          11,
          4,
          0,
          0,
          17,
          17,
          16,
          16,
          15,
          13,
          9,
          1,
          0,
          0,
          0,
          0,
          23,
          23,
          21,
          20,
          2,
          2,
          22,
          14,
          12,
          21,
          16,
          11,
          3,
          2,
          23,
          20,
          1,
          22,
          19,
          4,
          23,
          17,
          16,
          23,
          16,
          9,
          22,
          19,
          12,
          7,
          22,
          3,
          2,
          2,
          22,
          13,
          15,
          15,
          0,
          0,
          20,
          19,
          15,
          13,
          19,
          18,
          18,
          18,
          17,
          17,
          17,
          17,
          17,
          17,
          17,
          17,
          17,
          17,
          17,
          17,
          17,
          16,
          15,
          15,
          13,
          18,
          20,
          19,
          16,
          21,
          22,
          17,
          3,
          16,
          12,
          19,
          0,
          15,
          17,
          12,
          20,
          22,
          19,
          16,
          8,
          0,
          20,
          14,
          0,
          21,
          16,
          15,
          20,
          20,
          18,
          15,
          3,
          0,
          0,
          20,
          19,
          4,
          21,
          21,
          21,
          17,
          16,
          15,
          14,
          14,
          13,
          3,
          2,
          2,
          0,
          23,
          23,
          23,
          22,
          22,
          22,
          22,
          20,
          14,
          18,
          9,
          11,
          22,
          8,
          18,
          22,
          15,
          15,
          15,
          15,
          15,
          15,
          15,
          12,
          4,
          4,
          4,
          4,
          4,
          4,
          4,
          3,
          3,
          3,
          3,
          3,
          2,
          1,
          0,
          23,
          21,
          21,
          13,
          12,
          10,
          5,
          3,
          3,
          3,
          2,
          0,
          21,
          19,
          16,
          9,
          3,
          3,
          19,
          20,
          15,
          9,
          17,
          6,
          18,
          17,
          3,
          20,
          9,
          20,
          15,
          6,
          17,
          15,
          20,
          9,
          22,
          22,
          22,
          13,
          6,
          22,
          21,
          21,
          14,
          7,
          19,
          19,
          19,
          0,
          16,
          17,
          14,
          16,
          22,
          17,
          15,
          15,
          14,
          14,
          13,
          12,
          12,
          6,
          3,
          2,
          2,
          2,
          1,
          0,
          0,
          0,
          23,
          23,
          22,
          17,
          17,
          16,
          15,
          15,
          11,
          9,
          8,
          8,
          6,
          5,
          4,
          1,
          0,
          21,
          21,
          21,
          21,
          21,
          21,
          2,
          18,
          18,
          18,
          18,
          17,
          17,
          15,
          0,
          18,
          20,
          17,
          16,
          21,
          19,
          16,
          14,
          13,
          11,
          3,
          0,
          18,
          19,
          18,
          18,
          4,
          21,
          12,
          7,
          15,
          14,
          7,
          1,
          0,
          22,
          16,
          0,
          2,
          0,
          17,
          6,
          6,
          5,
          4,
          4,
          4,
          4,
          3,
          2,
          2,
          0,
          0,
          0,
          23,
          21,
          21,
          19,
          19,
          18,
          18,
          5,
          5,
          3,
          1,
          19,
          19,
          13,
          5,
          4,
          4,
          1,
          19,
          17,
          17,
          17,
          15,
          14,
          14,
          14,
          13,
          0,
          11,
          16,
          13,
          12,
          11,
          3,
          23,
          19,
          16,
          13,
          11,
          21,
          21,
          17,
          13,
          5,
          23,
          23,
          18,
          18,
          18,
          18,
          17,
          17,
          17,
          17,
          17,
          17,
          17,
          17,
          17,
          17,
          17,
          17,
          17,
          17,
          17,
          17,
          22,
          20,
          17,
          17,
          14,
          12,
          12,
          23,
          20,
          20,
          19,
          18,
          17,
          15,
          23,
          18,
          18,
          17,
          16,
          16,
          21,
          1,
          2,
          18,
          17,
          21,
          2,
          21,
          21,
          21,
          16,
          21,
          18,
          15,
          17,
          15,
          1,
          23,
          17,
          21,
          13,
          11,
          2,
          12,
          15,
          18,
          13,
          4,
          13,
          17,
          15,
          11,
          15,
          1,
          17,
          18,
          17,
          16,
          15,
          20,
          18,
          18,
          16,
          16,
          16,
          16,
          16,
          15,
          15,
          15,
          15,
          15,
          15,
          13,
          13,
          12,
          11,
          7,
          5,
          5,
          17,
          17,
          18,
          15,
          14,
          20,
          14,
          22,
          19,
          19,
          19,
          17,
          16,
          5,
          3,
          2,
          1,
          20,
          15,
          10,
          15,
          15,
          3,
          0,
          22,
          20,
          20,
          19,
          16,
          15,
          15,
          15,
          14,
          12,
          3,
          3,
          1,
          1,
          0,
          0,
          14,
          13,
          13,
          8,
          5,
          5,
          5,
          5,
          3,
          2,
          2,
          2,
          1,
          1,
          1,
          0,
          0,
          0,
          23,
          22,
          19,
          18,
          18,
          18,
          18,
          18,
          17,
          17,
          17,
          17,
          17,
          17,
          16,
          16,
          16,
          16,
          16,
          16,
          16,
          16,
          15,
          5,
          3,
          0,
          0,
          19,
          15,
          15,
          14,
          14,
          13,
          19,
          19,
          16,
          15,
          15,
          15,
          4,
          4,
          2,
          19,
          1,
          17,
          17,
          13,
          12,
          19,
          0,
          21,
          20,
          3,
          18,
          16,
          13,
          1,
          22,
          19,
          16,
          13,
          13,
          17,
          17,
          17,
          17,
          16,
          16,
          14,
          14,
          14,
          13,
          13,
          13,
          13,
          13,
          13,
          4,
          3,
          2,
          1,
          1,
          4,
          13,
          4,
          19,
          19,
          18,
          16,
          18,
          14,
          11,
          1,
          23,
          18,
          23,
          6,
          21,
          22,
          7,
          5,
          1,
          17,
          11,
          5,
          2,
          2,
          1,
          0,
          23,
          23,
          20,
          18,
          18,
          16,
          14,
          14,
          17,
          16,
          15,
          2,
          2,
          19,
          18,
          16,
          15,
          14,
          14,
          14,
          13,
          13,
          13,
          13,
          9,
          5,
          3,
          3,
          3,
          3,
          3,
          2,
          2,
          15,
          15,
          14,
          14,
          3,
          3,
          1,
          0,
          0,
          20,
          20,
          19,
          19,
          19,
          19,
          17,
          17,
          17,
          17,
          17,
          19,
          16,
          21,
          19,
          14,
          14,
          13,
          13,
          13,
          13,
          13,
          13,
          13,
          13,
          13,
          13,
          13,
          13,
          12,
          12,
          22,
          22,
          22,
          21,
          18,
          17,
          17,
          17,
          17,
          16,
          15,
          15,
          14,
          13,
          12,
          11,
          9,
          8,
          3,
          12,
          2,
          21,
          6,
          19,
          21,
          16,
          17,
          18,
          5,
          22,
          13,
          20,
          23,
          21,
          13,
          13,
          2,
          21,
          19,
          18,
          17,
          17,
          17,
          17,
          17,
          17,
          17,
          17,
          17,
          17,
          17,
          17,
          17,
          17,
          17,
          17,
          17,
          17,
          18,
          18,
          17,
          17,
          17,
          17,
          17,
          17,
          16,
          16,
          16,
          15,
          14,
          14,
          13,
          13,
          13,
          13,
          13,
          13,
          19,
          18,
          14,
          3,
          22,
          16,
          1,
          11,
          16,
          1,
          16,
          7,
          17,
          4,
          2,
          2,
          12,
          19,
          22,
          4,
          16,
          14,
          12,
          9,
          0,
          22,
          6,
          23,
          21,
          13,
          5,
          19,
          18,
          16,
          10,
          3,
          21,
          19,
          19,
          16,
          17,
          0,
          0,
          0,
          0,
          0,
          23,
          23,
          22,
          20,
          19,
          16,
          0,
          17,
          16,
          10,
          2,
          1,
          1,
          0,
          22,
          23,
          18,
          17,
          16,
          15,
          11,
          1,
          22,
          15,
          10,
          18,
          13,
          6,
          1,
          18,
          10,
          8,
          20,
          16,
          14,
          13,
          3,
          1,
          16,
          20,
          22,
          12,
          8,
          17,
          17,
          23,
          15,
          11,
          15,
          18,
          18,
          4,
          15,
          12,
          14,
          13,
          12,
          6,
          6,
          5,
          4,
          4,
          4,
          4,
          3,
          3,
          2,
          2,
          2,
          2,
          1,
          0,
          0,
          19,
          19,
          18,
          18,
          18,
          18,
          18,
          17,
          16,
          16,
          16,
          16,
          16,
          16,
          15,
          15,
          14,
          14,
          13,
          7,
          19,
          19,
          16,
          16,
          14,
          12,
          12,
          11,
          2,
          2,
          0,
          0,
          23,
          17,
          15,
          15,
          15,
          14,
          13,
          12,
          14,
          14,
          14,
          14,
          14,
          13,
          13,
          13,
          13,
          13,
          12,
          12,
          12,
          11,
          5,
          3,
          3,
          3,
          3,
          3,
          19,
          17,
          15,
          14,
          13,
          7,
          2,
          22,
          21,
          20,
          20,
          20,
          15,
          15,
          15,
          14,
          14,
          13,
          12,
          6,
          18,
          17,
          17,
          17,
          17,
          16,
          16,
          16,
          16,
          16,
          16,
          16,
          16,
          16,
          16,
          15,
          15,
          14,
          14,
          14,
          18,
          18,
          18,
          18,
          18,
          15,
          15,
          15,
          15,
          15,
          15,
          15,
          15,
          15,
          15,
          15,
          15,
          15,
          15,
          15
         ],
         "xaxis": "x",
         "yaxis": "y"
        }
       ],
       "layout": {
        "autosize": true,
        "barmode": "relative",
        "legend": {
         "tracegroupgap": 0
        },
        "margin": {
         "t": 60
        },
        "template": {
         "data": {
          "bar": [
           {
            "error_x": {
             "color": "#2a3f5f"
            },
            "error_y": {
             "color": "#2a3f5f"
            },
            "marker": {
             "line": {
              "color": "#E5ECF6",
              "width": 0.5
             }
            },
            "type": "bar"
           }
          ],
          "barpolar": [
           {
            "marker": {
             "line": {
              "color": "#E5ECF6",
              "width": 0.5
             }
            },
            "type": "barpolar"
           }
          ],
          "carpet": [
           {
            "aaxis": {
             "endlinecolor": "#2a3f5f",
             "gridcolor": "white",
             "linecolor": "white",
             "minorgridcolor": "white",
             "startlinecolor": "#2a3f5f"
            },
            "baxis": {
             "endlinecolor": "#2a3f5f",
             "gridcolor": "white",
             "linecolor": "white",
             "minorgridcolor": "white",
             "startlinecolor": "#2a3f5f"
            },
            "type": "carpet"
           }
          ],
          "choropleth": [
           {
            "colorbar": {
             "outlinewidth": 0,
             "ticks": ""
            },
            "type": "choropleth"
           }
          ],
          "contour": [
           {
            "colorbar": {
             "outlinewidth": 0,
             "ticks": ""
            },
            "colorscale": [
             [
              0,
              "#0d0887"
             ],
             [
              0.1111111111111111,
              "#46039f"
             ],
             [
              0.2222222222222222,
              "#7201a8"
             ],
             [
              0.3333333333333333,
              "#9c179e"
             ],
             [
              0.4444444444444444,
              "#bd3786"
             ],
             [
              0.5555555555555556,
              "#d8576b"
             ],
             [
              0.6666666666666666,
              "#ed7953"
             ],
             [
              0.7777777777777778,
              "#fb9f3a"
             ],
             [
              0.8888888888888888,
              "#fdca26"
             ],
             [
              1,
              "#f0f921"
             ]
            ],
            "type": "contour"
           }
          ],
          "contourcarpet": [
           {
            "colorbar": {
             "outlinewidth": 0,
             "ticks": ""
            },
            "type": "contourcarpet"
           }
          ],
          "heatmap": [
           {
            "colorbar": {
             "outlinewidth": 0,
             "ticks": ""
            },
            "colorscale": [
             [
              0,
              "#0d0887"
             ],
             [
              0.1111111111111111,
              "#46039f"
             ],
             [
              0.2222222222222222,
              "#7201a8"
             ],
             [
              0.3333333333333333,
              "#9c179e"
             ],
             [
              0.4444444444444444,
              "#bd3786"
             ],
             [
              0.5555555555555556,
              "#d8576b"
             ],
             [
              0.6666666666666666,
              "#ed7953"
             ],
             [
              0.7777777777777778,
              "#fb9f3a"
             ],
             [
              0.8888888888888888,
              "#fdca26"
             ],
             [
              1,
              "#f0f921"
             ]
            ],
            "type": "heatmap"
           }
          ],
          "heatmapgl": [
           {
            "colorbar": {
             "outlinewidth": 0,
             "ticks": ""
            },
            "colorscale": [
             [
              0,
              "#0d0887"
             ],
             [
              0.1111111111111111,
              "#46039f"
             ],
             [
              0.2222222222222222,
              "#7201a8"
             ],
             [
              0.3333333333333333,
              "#9c179e"
             ],
             [
              0.4444444444444444,
              "#bd3786"
             ],
             [
              0.5555555555555556,
              "#d8576b"
             ],
             [
              0.6666666666666666,
              "#ed7953"
             ],
             [
              0.7777777777777778,
              "#fb9f3a"
             ],
             [
              0.8888888888888888,
              "#fdca26"
             ],
             [
              1,
              "#f0f921"
             ]
            ],
            "type": "heatmapgl"
           }
          ],
          "histogram": [
           {
            "marker": {
             "colorbar": {
              "outlinewidth": 0,
              "ticks": ""
             }
            },
            "type": "histogram"
           }
          ],
          "histogram2d": [
           {
            "colorbar": {
             "outlinewidth": 0,
             "ticks": ""
            },
            "colorscale": [
             [
              0,
              "#0d0887"
             ],
             [
              0.1111111111111111,
              "#46039f"
             ],
             [
              0.2222222222222222,
              "#7201a8"
             ],
             [
              0.3333333333333333,
              "#9c179e"
             ],
             [
              0.4444444444444444,
              "#bd3786"
             ],
             [
              0.5555555555555556,
              "#d8576b"
             ],
             [
              0.6666666666666666,
              "#ed7953"
             ],
             [
              0.7777777777777778,
              "#fb9f3a"
             ],
             [
              0.8888888888888888,
              "#fdca26"
             ],
             [
              1,
              "#f0f921"
             ]
            ],
            "type": "histogram2d"
           }
          ],
          "histogram2dcontour": [
           {
            "colorbar": {
             "outlinewidth": 0,
             "ticks": ""
            },
            "colorscale": [
             [
              0,
              "#0d0887"
             ],
             [
              0.1111111111111111,
              "#46039f"
             ],
             [
              0.2222222222222222,
              "#7201a8"
             ],
             [
              0.3333333333333333,
              "#9c179e"
             ],
             [
              0.4444444444444444,
              "#bd3786"
             ],
             [
              0.5555555555555556,
              "#d8576b"
             ],
             [
              0.6666666666666666,
              "#ed7953"
             ],
             [
              0.7777777777777778,
              "#fb9f3a"
             ],
             [
              0.8888888888888888,
              "#fdca26"
             ],
             [
              1,
              "#f0f921"
             ]
            ],
            "type": "histogram2dcontour"
           }
          ],
          "mesh3d": [
           {
            "colorbar": {
             "outlinewidth": 0,
             "ticks": ""
            },
            "type": "mesh3d"
           }
          ],
          "parcoords": [
           {
            "line": {
             "colorbar": {
              "outlinewidth": 0,
              "ticks": ""
             }
            },
            "type": "parcoords"
           }
          ],
          "pie": [
           {
            "automargin": true,
            "type": "pie"
           }
          ],
          "scatter": [
           {
            "marker": {
             "colorbar": {
              "outlinewidth": 0,
              "ticks": ""
             }
            },
            "type": "scatter"
           }
          ],
          "scatter3d": [
           {
            "line": {
             "colorbar": {
              "outlinewidth": 0,
              "ticks": ""
             }
            },
            "marker": {
             "colorbar": {
              "outlinewidth": 0,
              "ticks": ""
             }
            },
            "type": "scatter3d"
           }
          ],
          "scattercarpet": [
           {
            "marker": {
             "colorbar": {
              "outlinewidth": 0,
              "ticks": ""
             }
            },
            "type": "scattercarpet"
           }
          ],
          "scattergeo": [
           {
            "marker": {
             "colorbar": {
              "outlinewidth": 0,
              "ticks": ""
             }
            },
            "type": "scattergeo"
           }
          ],
          "scattergl": [
           {
            "marker": {
             "colorbar": {
              "outlinewidth": 0,
              "ticks": ""
             }
            },
            "type": "scattergl"
           }
          ],
          "scattermapbox": [
           {
            "marker": {
             "colorbar": {
              "outlinewidth": 0,
              "ticks": ""
             }
            },
            "type": "scattermapbox"
           }
          ],
          "scatterpolar": [
           {
            "marker": {
             "colorbar": {
              "outlinewidth": 0,
              "ticks": ""
             }
            },
            "type": "scatterpolar"
           }
          ],
          "scatterpolargl": [
           {
            "marker": {
             "colorbar": {
              "outlinewidth": 0,
              "ticks": ""
             }
            },
            "type": "scatterpolargl"
           }
          ],
          "scatterternary": [
           {
            "marker": {
             "colorbar": {
              "outlinewidth": 0,
              "ticks": ""
             }
            },
            "type": "scatterternary"
           }
          ],
          "surface": [
           {
            "colorbar": {
             "outlinewidth": 0,
             "ticks": ""
            },
            "colorscale": [
             [
              0,
              "#0d0887"
             ],
             [
              0.1111111111111111,
              "#46039f"
             ],
             [
              0.2222222222222222,
              "#7201a8"
             ],
             [
              0.3333333333333333,
              "#9c179e"
             ],
             [
              0.4444444444444444,
              "#bd3786"
             ],
             [
              0.5555555555555556,
              "#d8576b"
             ],
             [
              0.6666666666666666,
              "#ed7953"
             ],
             [
              0.7777777777777778,
              "#fb9f3a"
             ],
             [
              0.8888888888888888,
              "#fdca26"
             ],
             [
              1,
              "#f0f921"
             ]
            ],
            "type": "surface"
           }
          ],
          "table": [
           {
            "cells": {
             "fill": {
              "color": "#EBF0F8"
             },
             "line": {
              "color": "white"
             }
            },
            "header": {
             "fill": {
              "color": "#C8D4E3"
             },
             "line": {
              "color": "white"
             }
            },
            "type": "table"
           }
          ]
         },
         "layout": {
          "annotationdefaults": {
           "arrowcolor": "#2a3f5f",
           "arrowhead": 0,
           "arrowwidth": 1
          },
          "coloraxis": {
           "colorbar": {
            "outlinewidth": 0,
            "ticks": ""
           }
          },
          "colorscale": {
           "diverging": [
            [
             0,
             "#8e0152"
            ],
            [
             0.1,
             "#c51b7d"
            ],
            [
             0.2,
             "#de77ae"
            ],
            [
             0.3,
             "#f1b6da"
            ],
            [
             0.4,
             "#fde0ef"
            ],
            [
             0.5,
             "#f7f7f7"
            ],
            [
             0.6,
             "#e6f5d0"
            ],
            [
             0.7,
             "#b8e186"
            ],
            [
             0.8,
             "#7fbc41"
            ],
            [
             0.9,
             "#4d9221"
            ],
            [
             1,
             "#276419"
            ]
           ],
           "sequential": [
            [
             0,
             "#0d0887"
            ],
            [
             0.1111111111111111,
             "#46039f"
            ],
            [
             0.2222222222222222,
             "#7201a8"
            ],
            [
             0.3333333333333333,
             "#9c179e"
            ],
            [
             0.4444444444444444,
             "#bd3786"
            ],
            [
             0.5555555555555556,
             "#d8576b"
            ],
            [
             0.6666666666666666,
             "#ed7953"
            ],
            [
             0.7777777777777778,
             "#fb9f3a"
            ],
            [
             0.8888888888888888,
             "#fdca26"
            ],
            [
             1,
             "#f0f921"
            ]
           ],
           "sequentialminus": [
            [
             0,
             "#0d0887"
            ],
            [
             0.1111111111111111,
             "#46039f"
            ],
            [
             0.2222222222222222,
             "#7201a8"
            ],
            [
             0.3333333333333333,
             "#9c179e"
            ],
            [
             0.4444444444444444,
             "#bd3786"
            ],
            [
             0.5555555555555556,
             "#d8576b"
            ],
            [
             0.6666666666666666,
             "#ed7953"
            ],
            [
             0.7777777777777778,
             "#fb9f3a"
            ],
            [
             0.8888888888888888,
             "#fdca26"
            ],
            [
             1,
             "#f0f921"
            ]
           ]
          },
          "colorway": [
           "#636efa",
           "#EF553B",
           "#00cc96",
           "#ab63fa",
           "#FFA15A",
           "#19d3f3",
           "#FF6692",
           "#B6E880",
           "#FF97FF",
           "#FECB52"
          ],
          "font": {
           "color": "#2a3f5f"
          },
          "geo": {
           "bgcolor": "white",
           "lakecolor": "white",
           "landcolor": "#E5ECF6",
           "showlakes": true,
           "showland": true,
           "subunitcolor": "white"
          },
          "hoverlabel": {
           "align": "left"
          },
          "hovermode": "closest",
          "mapbox": {
           "style": "light"
          },
          "paper_bgcolor": "white",
          "plot_bgcolor": "#E5ECF6",
          "polar": {
           "angularaxis": {
            "gridcolor": "white",
            "linecolor": "white",
            "ticks": ""
           },
           "bgcolor": "#E5ECF6",
           "radialaxis": {
            "gridcolor": "white",
            "linecolor": "white",
            "ticks": ""
           }
          },
          "scene": {
           "xaxis": {
            "backgroundcolor": "#E5ECF6",
            "gridcolor": "white",
            "gridwidth": 2,
            "linecolor": "white",
            "showbackground": true,
            "ticks": "",
            "zerolinecolor": "white"
           },
           "yaxis": {
            "backgroundcolor": "#E5ECF6",
            "gridcolor": "white",
            "gridwidth": 2,
            "linecolor": "white",
            "showbackground": true,
            "ticks": "",
            "zerolinecolor": "white"
           },
           "zaxis": {
            "backgroundcolor": "#E5ECF6",
            "gridcolor": "white",
            "gridwidth": 2,
            "linecolor": "white",
            "showbackground": true,
            "ticks": "",
            "zerolinecolor": "white"
           }
          },
          "shapedefaults": {
           "line": {
            "color": "#2a3f5f"
           }
          },
          "ternary": {
           "aaxis": {
            "gridcolor": "white",
            "linecolor": "white",
            "ticks": ""
           },
           "baxis": {
            "gridcolor": "white",
            "linecolor": "white",
            "ticks": ""
           },
           "bgcolor": "#E5ECF6",
           "caxis": {
            "gridcolor": "white",
            "linecolor": "white",
            "ticks": ""
           }
          },
          "title": {
           "x": 0.05
          },
          "xaxis": {
           "automargin": true,
           "gridcolor": "white",
           "linecolor": "white",
           "ticks": "",
           "title": {
            "standoff": 15
           },
           "zerolinecolor": "white",
           "zerolinewidth": 2
          },
          "yaxis": {
           "automargin": true,
           "gridcolor": "white",
           "linecolor": "white",
           "ticks": "",
           "title": {
            "standoff": 15
           },
           "zerolinecolor": "white",
           "zerolinewidth": 2
          }
         }
        },
        "xaxis": {
         "anchor": "y",
         "autorange": true,
         "domain": [
          0,
          1
         ],
         "range": [
          -0.5,
          23.5
         ],
         "title": {
          "text": "hours"
         },
         "type": "linear"
        },
        "yaxis": {
         "anchor": "x",
         "autorange": true,
         "domain": [
          0,
          1
         ],
         "range": [
          0,
          152263.15789473685
         ]
        }
       }
      },
      "image/png": "[encoded data removed]",
      "text/html": [
       "<div>\n",
       "        \n",
       "        \n",
       "            <div id=\"036159fa-3359-4253-a0f8-f7bf696b990b\" class=\"plotly-graph-div\" style=\"height:525px; width:100%;\"></div>\n",
       "            <script type=\"text/javascript\">\n",
       "                require([\"plotly\"], function(Plotly) {\n",
       "                    window.PLOTLYENV=window.PLOTLYENV || {};\n",
       "                    \n",
       "                if (document.getElementById(\"036159fa-3359-4253-a0f8-f7bf696b990b\")) {\n",
       "                    Plotly.newPlot(\n",
       "                        '036159fa-3359-4253-a0f8-f7bf696b990b',\n",
       "                        [{\"alignmentgroup\": \"True\", \"hoverlabel\": {\"namelength\": 0}, \"hovertemplate\": \"hours=%{x}\", \"legendgroup\": \"\", \"marker\": {\"color\": \"#636efa\"}, \"name\": \"\", \"offsetgroup\": \"\", \"orientation\": \"v\", \"showlegend\": false, \"textposition\": \"auto\", \"type\": \"bar\", \"x\": [14, 12, 22, 21, 20, 20, 17, 16, 15, 14, 14, 13, 5, 3, 0, 0, 21, 20, 19, 19, 19, 19, 19, 18, 18, 18, 18, 17, 17, 17, 16, 16, 16, 15, 15, 15, 15, 14, 14, 13, 0, 20, 22, 1, 13, 16, 11, 17, 14, 14, 14, 8, 19, 13, 11, 3, 18, 7, 22, 21, 13, 23, 13, 8, 6, 4, 12, 19, 12, 1, 0, 14, 12, 0, 15, 1, 13, 12, 0, 0, 12, 11, 2, 14, 21, 19, 9, 1, 17, 5, 14, 13, 19, 14, 16, 5, 5, 1, 21, 18, 11, 3, 0, 15, 8, 13, 18, 8, 19, 22, 10, 20, 12, 6, 22, 17, 12, 19, 18, 19, 12, 16, 16, 4, 0, 21, 20, 12, 11, 13, 21, 11, 22, 9, 17, 19, 18, 18, 18, 12, 20, 15, 11, 11, 9, 9, 9, 0, 22, 21, 21, 19, 17, 15, 15, 8, 1, 1, 20, 9, 18, 0, 0, 18, 18, 14, 14, 13, 11, 16, 11, 17, 11, 19, 14, 20, 13, 18, 20, 21, 14, 20, 19, 14, 14, 17, 17, 14, 5, 5, 18, 12, 10, 7, 14, 13, 13, 13, 13, 13, 13, 13, 13, 13, 13, 13, 13, 12, 10, 9, 8, 8, 8, 7, 11, 9, 22, 16, 5, 22, 14, 12, 21, 18, 18, 16, 16, 14, 14, 10, 7, 2, 22, 19, 8, 8, 2, 22, 3, 23, 21, 18, 1, 7, 1, 13, 1, 23, 15, 15, 13, 12, 4, 1, 1, 15, 3, 3, 1, 1, 19, 18, 16, 15, 2, 7, 7, 3, 2, 2, 1, 1, 0, 23, 22, 21, 21, 19, 19, 18, 18, 18, 18, 18, 18, 9, 4, 3, 3, 19, 19, 19, 19, 12, 9, 14, 10, 9, 17, 22, 9, 4, 14, 1, 6, 19, 18, 18, 18, 18, 18, 7, 2, 1, 0, 23, 23, 23, 22, 22, 22, 22, 22, 21, 21, 17, 16, 14, 10, 17, 11, 12, 21, 20, 7, 18, 19, 18, 13, 21, 18, 13, 20, 15, 18, 12, 12, 11, 10, 10, 10, 8, 21, 21, 20, 19, 15, 15, 14, 12, 10, 8, 23, 23, 22, 11, 6, 22, 21, 12, 17, 12, 5, 18, 4, 18, 12, 0, 2, 0, 23, 21, 6, 12, 3, 13, 13, 22, 20, 14, 17, 11, 19, 22, 23, 10, 19, 23, 13, 18, 20, 6, 1, 14, 14, 0, 13, 20, 17, 16, 16, 16, 16, 16, 15, 14, 14, 14, 13, 13, 13, 13, 12, 12, 12, 12, 11, 10, 8, 6, 4, 17, 14, 14, 13, 13, 20, 19, 19, 19, 19, 18, 18, 18, 17, 17, 17, 16, 16, 16, 12, 11, 11, 11, 11, 10, 8, 19, 19, 15, 15, 12, 8, 7, 6, 8, 15, 15, 14, 13, 17, 10, 8, 22, 10, 15, 18, 10, 10, 14, 21, 4, 15, 13, 13, 12, 12, 12, 12, 11, 11, 9, 7, 5, 0, 21, 21, 20, 20, 20, 17, 8, 20, 14, 12, 22, 21, 17, 3, 23, 22, 12, 10, 14, 13, 17, 11, 7, 16, 16, 20, 21, 4, 15, 21, 0, 21, 2, 17, 16, 2, 0, 6, 2, 21, 6, 2, 18, 6, 12, 20, 2, 9, 11, 21, 9, 11, 15, 18, 8, 6, 12, 16, 17, 10, 10, 8, 9, 15, 16, 15, 7, 6, 16, 16, 15, 12, 11, 11, 9, 9, 7, 7, 4, 1, 1, 1, 23, 23, 15, 14, 14, 13, 12, 10, 6, 2, 19, 15, 13, 9, 4, 13, 10, 8, 7, 4, 17, 16, 11, 4, 0, 0, 17, 17, 16, 16, 15, 13, 9, 1, 0, 0, 0, 0, 23, 23, 21, 20, 2, 2, 22, 14, 12, 21, 16, 11, 3, 2, 23, 20, 1, 22, 19, 4, 23, 17, 16, 23, 16, 9, 22, 19, 12, 7, 22, 3, 2, 2, 22, 13, 15, 15, 0, 0, 20, 19, 15, 13, 19, 18, 18, 18, 17, 17, 17, 17, 17, 17, 17, 17, 17, 17, 17, 17, 17, 16, 15, 15, 13, 18, 20, 19, 16, 21, 22, 17, 3, 16, 12, 19, 0, 15, 17, 12, 20, 22, 19, 16, 8, 0, 20, 14, 0, 21, 16, 15, 20, 20, 18, 15, 3, 0, 0, 20, 19, 4, 21, 21, 21, 17, 16, 15, 14, 14, 13, 3, 2, 2, 0, 23, 23, 23, 22, 22, 22, 22, 20, 14, 18, 9, 11, 22, 8, 18, 22, 15, 15, 15, 15, 15, 15, 15, 12, 4, 4, 4, 4, 4, 4, 4, 3, 3, 3, 3, 3, 2, 1, 0, 23, 21, 21, 13, 12, 10, 5, 3, 3, 3, 2, 0, 21, 19, 16, 9, 3, 3, 19, 20, 15, 9, 17, 6, 18, 17, 3, 20, 9, 20, 15, 6, 17, 15, 20, 9, 22, 22, 22, 13, 6, 22, 21, 21, 14, 7, 19, 19, 19, 0, 16, 17, 14, 16, 22, 17, 15, 15, 14, 14, 13, 12, 12, 6, 3, 2, 2, 2, 1, 0, 0, 0, 23, 23, 22, 17, 17, 16, 15, 15, 11, 9, 8, 8, 6, 5, 4, 1, 0, 21, 21, 21, 21, 21, 21, 2, 18, 18, 18, 18, 17, 17, 15, 0, 18, 20, 17, 16, 21, 19, 16, 14, 13, 11, 3, 0, 18, 19, 18, 18, 4, 21, 12, 7, 15, 14, 7, 1, 0, 22, 16, 0, 2, 0, 17, 6, 6, 5, 4, 4, 4, 4, 3, 2, 2, 0, 0, 0, 23, 21, 21, 19, 19, 18, 18, 5, 5, 3, 1, 19, 19, 13, 5, 4, 4, 1, 19, 17, 17, 17, 15, 14, 14, 14, 13, 0, 11, 16, 13, 12, 11, 3, 23, 19, 16, 13, 11, 21, 21, 17, 13, 5, 23, 23, 18, 18, 18, 18, 17, 17, 17, 17, 17, 17, 17, 17, 17, 17, 17, 17, 17, 17, 17, 17, 22, 20, 17, 17, 14, 12, 12, 23, 20, 20, 19, 18, 17, 15, 23, 18, 18, 17, 16, 16, 21, 1, 2, 18, 17, 21, 2, 21, 21, 21, 16, 21, 18, 15, 17, 15, 1, 23, 17, 21, 13, 11, 2, 12, 15, 18, 13, 4, 13, 17, 15, 11, 15, 1, 17, 18, 17, 16, 15, 20, 18, 18, 16, 16, 16, 16, 16, 15, 15, 15, 15, 15, 15, 13, 13, 12, 11, 7, 5, 5, 17, 17, 18, 15, 14, 20, 14, 22, 19, 19, 19, 17, 16, 5, 3, 2, 1, 20, 15, 10, 15, 15, 3, 0, 22, 20, 20, 19, 16, 15, 15, 15, 14, 12, 3, 3, 1, 1, 0, 0, 14, 13, 13, 8, 5, 5, 5, 5, 3, 2, 2, 2, 1, 1, 1, 0, 0, 0, 23, 22, 19, 18, 18, 18, 18, 18, 17, 17, 17, 17, 17, 17, 16, 16, 16, 16, 16, 16, 16, 16, 15, 5, 3, 0, 0, 19, 15, 15, 14, 14, 13, 19, 19, 16, 15, 15, 15, 4, 4, 2, 19, 1, 17, 17, 13, 12, 19, 0, 21, 20, 3, 18, 16, 13, 1, 22, 19, 16, 13, 13, 17, 17, 17, 17, 16, 16, 14, 14, 14, 13, 13, 13, 13, 13, 13, 4, 3, 2, 1, 1, 4, 13, 4, 19, 19, 18, 16, 18, 14, 11, 1, 23, 18, 23, 6, 21, 22, 7, 5, 1, 17, 11, 5, 2, 2, 1, 0, 23, 23, 20, 18, 18, 16, 14, 14, 17, 16, 15, 2, 2, 19, 18, 16, 15, 14, 14, 14, 13, 13, 13, 13, 9, 5, 3, 3, 3, 3, 3, 2, 2, 15, 15, 14, 14, 3, 3, 1, 0, 0, 20, 20, 19, 19, 19, 19, 17, 17, 17, 17, 17, 19, 16, 21, 19, 14, 14, 13, 13, 13, 13, 13, 13, 13, 13, 13, 13, 13, 13, 12, 12, 22, 22, 22, 21, 18, 17, 17, 17, 17, 16, 15, 15, 14, 13, 12, 11, 9, 8, 3, 12, 2, 21, 6, 19, 21, 16, 17, 18, 5, 22, 13, 20, 23, 21, 13, 13, 2, 21, 19, 18, 17, 17, 17, 17, 17, 17, 17, 17, 17, 17, 17, 17, 17, 17, 17, 17, 17, 17, 18, 18, 17, 17, 17, 17, 17, 17, 16, 16, 16, 15, 14, 14, 13, 13, 13, 13, 13, 13, 19, 18, 14, 3, 22, 16, 1, 11, 16, 1, 16, 7, 17, 4, 2, 2, 12, 19, 22, 4, 16, 14, 12, 9, 0, 22, 6, 23, 21, 13, 5, 19, 18, 16, 10, 3, 21, 19, 19, 16, 17, 0, 0, 0, 0, 0, 23, 23, 22, 20, 19, 16, 0, 17, 16, 10, 2, 1, 1, 0, 22, 23, 18, 17, 16, 15, 11, 1, 22, 15, 10, 18, 13, 6, 1, 18, 10, 8, 20, 16, 14, 13, 3, 1, 16, 20, 22, 12, 8, 17, 17, 23, 15, 11, 15, 18, 18, 4, 15, 12, 14, 13, 12, 6, 6, 5, 4, 4, 4, 4, 3, 3, 2, 2, 2, 2, 1, 0, 0, 19, 19, 18, 18, 18, 18, 18, 17, 16, 16, 16, 16, 16, 16, 15, 15, 14, 14, 13, 7, 19, 19, 16, 16, 14, 12, 12, 11, 2, 2, 0, 0, 23, 17, 15, 15, 15, 14, 13, 12, 14, 14, 14, 14, 14, 13, 13, 13, 13, 13, 12, 12, 12, 11, 5, 3, 3, 3, 3, 3, 19, 17, 15, 14, 13, 7, 2, 22, 21, 20, 20, 20, 15, 15, 15, 14, 14, 13, 12, 6, 18, 17, 17, 17, 17, 16, 16, 16, 16, 16, 16, 16, 16, 16, 16, 15, 15, 14, 14, 14, 18, 18, 18, 18, 18, 15, 15, 15, 15, 15, 15, 15, 15, 15, 15, 15, 15, 15, 15, 15], \"xaxis\": \"x\", \"yaxis\": \"y\"}],\n",
       "                        {\"barmode\": \"relative\", \"legend\": {\"tracegroupgap\": 0}, \"margin\": {\"t\": 60}, \"template\": {\"data\": {\"bar\": [{\"error_x\": {\"color\": \"#2a3f5f\"}, \"error_y\": {\"color\": \"#2a3f5f\"}, \"marker\": {\"line\": {\"color\": \"#E5ECF6\", \"width\": 0.5}}, \"type\": \"bar\"}], \"barpolar\": [{\"marker\": {\"line\": {\"color\": \"#E5ECF6\", \"width\": 0.5}}, \"type\": \"barpolar\"}], \"carpet\": [{\"aaxis\": {\"endlinecolor\": \"#2a3f5f\", \"gridcolor\": \"white\", \"linecolor\": \"white\", \"minorgridcolor\": \"white\", \"startlinecolor\": \"#2a3f5f\"}, \"baxis\": {\"endlinecolor\": \"#2a3f5f\", \"gridcolor\": \"white\", \"linecolor\": \"white\", \"minorgridcolor\": \"white\", \"startlinecolor\": \"#2a3f5f\"}, \"type\": \"carpet\"}], \"choropleth\": [{\"colorbar\": {\"outlinewidth\": 0, \"ticks\": \"\"}, \"type\": \"choropleth\"}], \"contour\": [{\"colorbar\": {\"outlinewidth\": 0, \"ticks\": \"\"}, \"colorscale\": [[0.0, \"#0d0887\"], [0.1111111111111111, \"#46039f\"], [0.2222222222222222, \"#7201a8\"], [0.3333333333333333, \"#9c179e\"], [0.4444444444444444, \"#bd3786\"], [0.5555555555555556, \"#d8576b\"], [0.6666666666666666, \"#ed7953\"], [0.7777777777777778, \"#fb9f3a\"], [0.8888888888888888, \"#fdca26\"], [1.0, \"#f0f921\"]], \"type\": \"contour\"}], \"contourcarpet\": [{\"colorbar\": {\"outlinewidth\": 0, \"ticks\": \"\"}, \"type\": \"contourcarpet\"}], \"heatmap\": [{\"colorbar\": {\"outlinewidth\": 0, \"ticks\": \"\"}, \"colorscale\": [[0.0, \"#0d0887\"], [0.1111111111111111, \"#46039f\"], [0.2222222222222222, \"#7201a8\"], [0.3333333333333333, \"#9c179e\"], [0.4444444444444444, \"#bd3786\"], [0.5555555555555556, \"#d8576b\"], [0.6666666666666666, \"#ed7953\"], [0.7777777777777778, \"#fb9f3a\"], [0.8888888888888888, \"#fdca26\"], [1.0, \"#f0f921\"]], \"type\": \"heatmap\"}], \"heatmapgl\": [{\"colorbar\": {\"outlinewidth\": 0, \"ticks\": \"\"}, \"colorscale\": [[0.0, \"#0d0887\"], [0.1111111111111111, \"#46039f\"], [0.2222222222222222, \"#7201a8\"], [0.3333333333333333, \"#9c179e\"], [0.4444444444444444, \"#bd3786\"], [0.5555555555555556, \"#d8576b\"], [0.6666666666666666, \"#ed7953\"], [0.7777777777777778, \"#fb9f3a\"], [0.8888888888888888, \"#fdca26\"], [1.0, \"#f0f921\"]], \"type\": \"heatmapgl\"}], \"histogram\": [{\"marker\": {\"colorbar\": {\"outlinewidth\": 0, \"ticks\": \"\"}}, \"type\": \"histogram\"}], \"histogram2d\": [{\"colorbar\": {\"outlinewidth\": 0, \"ticks\": \"\"}, \"colorscale\": [[0.0, \"#0d0887\"], [0.1111111111111111, \"#46039f\"], [0.2222222222222222, \"#7201a8\"], [0.3333333333333333, \"#9c179e\"], [0.4444444444444444, \"#bd3786\"], [0.5555555555555556, \"#d8576b\"], [0.6666666666666666, \"#ed7953\"], [0.7777777777777778, \"#fb9f3a\"], [0.8888888888888888, \"#fdca26\"], [1.0, \"#f0f921\"]], \"type\": \"histogram2d\"}], \"histogram2dcontour\": [{\"colorbar\": {\"outlinewidth\": 0, \"ticks\": \"\"}, \"colorscale\": [[0.0, \"#0d0887\"], [0.1111111111111111, \"#46039f\"], [0.2222222222222222, \"#7201a8\"], [0.3333333333333333, \"#9c179e\"], [0.4444444444444444, \"#bd3786\"], [0.5555555555555556, \"#d8576b\"], [0.6666666666666666, \"#ed7953\"], [0.7777777777777778, \"#fb9f3a\"], [0.8888888888888888, \"#fdca26\"], [1.0, \"#f0f921\"]], \"type\": \"histogram2dcontour\"}], \"mesh3d\": [{\"colorbar\": {\"outlinewidth\": 0, \"ticks\": \"\"}, \"type\": \"mesh3d\"}], \"parcoords\": [{\"line\": {\"colorbar\": {\"outlinewidth\": 0, \"ticks\": \"\"}}, \"type\": \"parcoords\"}], \"pie\": [{\"automargin\": true, \"type\": \"pie\"}], \"scatter\": [{\"marker\": {\"colorbar\": {\"outlinewidth\": 0, \"ticks\": \"\"}}, \"type\": \"scatter\"}], \"scatter3d\": [{\"line\": {\"colorbar\": {\"outlinewidth\": 0, \"ticks\": \"\"}}, \"marker\": {\"colorbar\": {\"outlinewidth\": 0, \"ticks\": \"\"}}, \"type\": \"scatter3d\"}], \"scattercarpet\": [{\"marker\": {\"colorbar\": {\"outlinewidth\": 0, \"ticks\": \"\"}}, \"type\": \"scattercarpet\"}], \"scattergeo\": [{\"marker\": {\"colorbar\": {\"outlinewidth\": 0, \"ticks\": \"\"}}, \"type\": \"scattergeo\"}], \"scattergl\": [{\"marker\": {\"colorbar\": {\"outlinewidth\": 0, \"ticks\": \"\"}}, \"type\": \"scattergl\"}], \"scattermapbox\": [{\"marker\": {\"colorbar\": {\"outlinewidth\": 0, \"ticks\": \"\"}}, \"type\": \"scattermapbox\"}], \"scatterpolar\": [{\"marker\": {\"colorbar\": {\"outlinewidth\": 0, \"ticks\": \"\"}}, \"type\": \"scatterpolar\"}], \"scatterpolargl\": [{\"marker\": {\"colorbar\": {\"outlinewidth\": 0, \"ticks\": \"\"}}, \"type\": \"scatterpolargl\"}], \"scatterternary\": [{\"marker\": {\"colorbar\": {\"outlinewidth\": 0, \"ticks\": \"\"}}, \"type\": \"scatterternary\"}], \"surface\": [{\"colorbar\": {\"outlinewidth\": 0, \"ticks\": \"\"}, \"colorscale\": [[0.0, \"#0d0887\"], [0.1111111111111111, \"#46039f\"], [0.2222222222222222, \"#7201a8\"], [0.3333333333333333, \"#9c179e\"], [0.4444444444444444, \"#bd3786\"], [0.5555555555555556, \"#d8576b\"], [0.6666666666666666, \"#ed7953\"], [0.7777777777777778, \"#fb9f3a\"], [0.8888888888888888, \"#fdca26\"], [1.0, \"#f0f921\"]], \"type\": \"surface\"}], \"table\": [{\"cells\": {\"fill\": {\"color\": \"#EBF0F8\"}, \"line\": {\"color\": \"white\"}}, \"header\": {\"fill\": {\"color\": \"#C8D4E3\"}, \"line\": {\"color\": \"white\"}}, \"type\": \"table\"}]}, \"layout\": {\"annotationdefaults\": {\"arrowcolor\": \"#2a3f5f\", \"arrowhead\": 0, \"arrowwidth\": 1}, \"coloraxis\": {\"colorbar\": {\"outlinewidth\": 0, \"ticks\": \"\"}}, \"colorscale\": {\"diverging\": [[0, \"#8e0152\"], [0.1, \"#c51b7d\"], [0.2, \"#de77ae\"], [0.3, \"#f1b6da\"], [0.4, \"#fde0ef\"], [0.5, \"#f7f7f7\"], [0.6, \"#e6f5d0\"], [0.7, \"#b8e186\"], [0.8, \"#7fbc41\"], [0.9, \"#4d9221\"], [1, \"#276419\"]], \"sequential\": [[0.0, \"#0d0887\"], [0.1111111111111111, \"#46039f\"], [0.2222222222222222, \"#7201a8\"], [0.3333333333333333, \"#9c179e\"], [0.4444444444444444, \"#bd3786\"], [0.5555555555555556, \"#d8576b\"], [0.6666666666666666, \"#ed7953\"], [0.7777777777777778, \"#fb9f3a\"], [0.8888888888888888, \"#fdca26\"], [1.0, \"#f0f921\"]], \"sequentialminus\": [[0.0, \"#0d0887\"], [0.1111111111111111, \"#46039f\"], [0.2222222222222222, \"#7201a8\"], [0.3333333333333333, \"#9c179e\"], [0.4444444444444444, \"#bd3786\"], [0.5555555555555556, \"#d8576b\"], [0.6666666666666666, \"#ed7953\"], [0.7777777777777778, \"#fb9f3a\"], [0.8888888888888888, \"#fdca26\"], [1.0, \"#f0f921\"]]}, \"colorway\": [\"#636efa\", \"#EF553B\", \"#00cc96\", \"#ab63fa\", \"#FFA15A\", \"#19d3f3\", \"#FF6692\", \"#B6E880\", \"#FF97FF\", \"#FECB52\"], \"font\": {\"color\": \"#2a3f5f\"}, \"geo\": {\"bgcolor\": \"white\", \"lakecolor\": \"white\", \"landcolor\": \"#E5ECF6\", \"showlakes\": true, \"showland\": true, \"subunitcolor\": \"white\"}, \"hoverlabel\": {\"align\": \"left\"}, \"hovermode\": \"closest\", \"mapbox\": {\"style\": \"light\"}, \"paper_bgcolor\": \"white\", \"plot_bgcolor\": \"#E5ECF6\", \"polar\": {\"angularaxis\": {\"gridcolor\": \"white\", \"linecolor\": \"white\", \"ticks\": \"\"}, \"bgcolor\": \"#E5ECF6\", \"radialaxis\": {\"gridcolor\": \"white\", \"linecolor\": \"white\", \"ticks\": \"\"}}, \"scene\": {\"xaxis\": {\"backgroundcolor\": \"#E5ECF6\", \"gridcolor\": \"white\", \"gridwidth\": 2, \"linecolor\": \"white\", \"showbackground\": true, \"ticks\": \"\", \"zerolinecolor\": \"white\"}, \"yaxis\": {\"backgroundcolor\": \"#E5ECF6\", \"gridcolor\": \"white\", \"gridwidth\": 2, \"linecolor\": \"white\", \"showbackground\": true, \"ticks\": \"\", \"zerolinecolor\": \"white\"}, \"zaxis\": {\"backgroundcolor\": \"#E5ECF6\", \"gridcolor\": \"white\", \"gridwidth\": 2, \"linecolor\": \"white\", \"showbackground\": true, \"ticks\": \"\", \"zerolinecolor\": \"white\"}}, \"shapedefaults\": {\"line\": {\"color\": \"#2a3f5f\"}}, \"ternary\": {\"aaxis\": {\"gridcolor\": \"white\", \"linecolor\": \"white\", \"ticks\": \"\"}, \"baxis\": {\"gridcolor\": \"white\", \"linecolor\": \"white\", \"ticks\": \"\"}, \"bgcolor\": \"#E5ECF6\", \"caxis\": {\"gridcolor\": \"white\", \"linecolor\": \"white\", \"ticks\": \"\"}}, \"title\": {\"x\": 0.05}, \"xaxis\": {\"automargin\": true, \"gridcolor\": \"white\", \"linecolor\": \"white\", \"ticks\": \"\", \"title\": {\"standoff\": 15}, \"zerolinecolor\": \"white\", \"zerolinewidth\": 2}, \"yaxis\": {\"automargin\": true, \"gridcolor\": \"white\", \"linecolor\": \"white\", \"ticks\": \"\", \"title\": {\"standoff\": 15}, \"zerolinecolor\": \"white\", \"zerolinewidth\": 2}}}, \"xaxis\": {\"anchor\": \"y\", \"domain\": [0.0, 1.0], \"title\": {\"text\": \"hours\"}}, \"yaxis\": {\"anchor\": \"x\", \"domain\": [0.0, 1.0]}},\n",
       "                        {\"responsive\": true}\n",
       "                    ).then(function(){\n",
       "                            \n",
       "var gd = document.getElementById('036159fa-3359-4253-a0f8-f7bf696b990b');\n",
       "var x = new MutationObserver(function (mutations, observer) {{\n",
       "        var display = window.getComputedStyle(gd).display;\n",
       "        if (!display || display === 'none') {{\n",
       "            console.log([gd, 'removed!']);\n",
       "            Plotly.purge(gd);\n",
       "            observer.disconnect();\n",
       "        }}\n",
       "}});\n",
       "\n",
       "// Listen for the removal of the full notebook cells\n",
       "var notebookContainer = gd.closest('#notebook-container');\n",
       "if (notebookContainer) {{\n",
       "    x.observe(notebookContainer, {childList: true});\n",
       "}}\n",
       "\n",
       "// Listen for the clearing of the current output cell\n",
       "var outputEl = gd.closest('.output');\n",
       "if (outputEl) {{\n",
       "    x.observe(outputEl, {childList: true});\n",
       "}}\n",
       "\n",
       "                        })\n",
       "                };\n",
       "                });\n",
       "            </script>\n",
       "        </div>"
      ]
     },
     "metadata": {},
     "output_type": "display_data"
    }
   ],
   "source": [
    "fig = px.bar(get_follower_data, x='hours')\n",
    "fig.show()"
   ]
  },
  {
   "cell_type": "code",
   "execution_count": null,
   "metadata": {},
   "outputs": [],
   "source": []
  }
 ],
 "metadata": {
  "kernelspec": {
   "display_name": "sms_tweet (Python 3)",
   "language": "python",
   "name": "sms_flask"
  },
  "language_info": {
   "codemirror_mode": {
    "name": "ipython",
    "version": 3
   },
   "file_extension": ".py",
   "mimetype": "text/x-python",
   "name": "python",
   "nbconvert_exporter": "python",
   "pygments_lexer": "ipython3",
   "version": "3.7.5"
  }
 },
 "nbformat": 4,
 "nbformat_minor": 4
}
