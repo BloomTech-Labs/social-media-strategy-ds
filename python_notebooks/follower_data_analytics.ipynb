{
 "cells": [
  {
   "cell_type": "code",
   "execution_count": 1,
   "metadata": {},
   "outputs": [],
   "source": [
    "import pandas as pd"
   ]
  },
  {
   "cell_type": "code",
   "execution_count": 2,
   "metadata": {},
   "outputs": [],
   "source": [
    "df=pd.read_csv('get_follower_data.csv')"
   ]
  },
  {
   "cell_type": "code",
   "execution_count": 3,
   "metadata": {},
   "outputs": [
    {
     "data": {
      "text/html": [
       "<div>\n",
       "<style scoped>\n",
       "    .dataframe tbody tr th:only-of-type {\n",
       "        vertical-align: middle;\n",
       "    }\n",
       "\n",
       "    .dataframe tbody tr th {\n",
       "        vertical-align: top;\n",
       "    }\n",
       "\n",
       "    .dataframe thead th {\n",
       "        text-align: right;\n",
       "    }\n",
       "</style>\n",
       "<table border=\"1\" class=\"dataframe\">\n",
       "  <thead>\n",
       "    <tr style=\"text-align: right;\">\n",
       "      <th></th>\n",
       "      <th>Unnamed: 0</th>\n",
       "      <th>hours</th>\n",
       "      <th>mins</th>\n",
       "      <th>secs</th>\n",
       "      <th>text</th>\n",
       "    </tr>\n",
       "  </thead>\n",
       "  <tbody>\n",
       "    <tr>\n",
       "      <th>0</th>\n",
       "      <td>0</td>\n",
       "      <td>16</td>\n",
       "      <td>30</td>\n",
       "      <td>36</td>\n",
       "      <td>How to UNPIVOT multiple columns into tidy pair...</td>\n",
       "    </tr>\n",
       "    <tr>\n",
       "      <th>1</th>\n",
       "      <td>1</td>\n",
       "      <td>16</td>\n",
       "      <td>0</td>\n",
       "      <td>4</td>\n",
       "      <td>Shortest Path Algorithms, Part 2: Floyd�Warsha...</td>\n",
       "    </tr>\n",
       "    <tr>\n",
       "      <th>2</th>\n",
       "      <td>2</td>\n",
       "      <td>15</td>\n",
       "      <td>8</td>\n",
       "      <td>1</td>\n",
       "      <td>Code to run SQL queries 10 times faster than B...</td>\n",
       "    </tr>\n",
       "    <tr>\n",
       "      <th>3</th>\n",
       "      <td>3</td>\n",
       "      <td>14</td>\n",
       "      <td>41</td>\n",
       "      <td>43</td>\n",
       "      <td>New to Data Visualization? Start with New York...</td>\n",
       "    </tr>\n",
       "    <tr>\n",
       "      <th>4</th>\n",
       "      <td>4</td>\n",
       "      <td>4</td>\n",
       "      <td>57</td>\n",
       "      <td>47</td>\n",
       "      <td>I wrote a Colab notebook that introduces diffe...</td>\n",
       "    </tr>\n",
       "  </tbody>\n",
       "</table>\n",
       "</div>"
      ],
      "text/plain": [
       "   Unnamed: 0  hours  mins  secs  \\\n",
       "0           0     16    30    36   \n",
       "1           1     16     0     4   \n",
       "2           2     15     8     1   \n",
       "3           3     14    41    43   \n",
       "4           4      4    57    47   \n",
       "\n",
       "                                                text  \n",
       "0  How to UNPIVOT multiple columns into tidy pair...  \n",
       "1  Shortest Path Algorithms, Part 2: Floyd�Warsha...  \n",
       "2  Code to run SQL queries 10 times faster than B...  \n",
       "3  New to Data Visualization? Start with New York...  \n",
       "4  I wrote a Colab notebook that introduces diffe...  "
      ]
     },
     "execution_count": 3,
     "metadata": {},
     "output_type": "execute_result"
    }
   ],
   "source": [
    "df.head()"
   ]
  },
  {
   "cell_type": "code",
   "execution_count": 4,
   "metadata": {},
   "outputs": [],
   "source": [
    "df['text'] = df['text'].apply(lambda x: x[0:-1].replace('\\n\\n', ' '))"
   ]
  },
  {
   "cell_type": "code",
   "execution_count": 5,
   "metadata": {},
   "outputs": [],
   "source": [
    "import re\n",
    "\n",
    "def clear_emoji(text):\n",
    "    emoji_pattern = re.compile(\"[\"\n",
    "          u\"\\U0001F600-\\U0001F64F\"  # emoticons\n",
    "          u\"\\U0001F300-\\U0001F5FF\"  # symbols & pictographs\n",
    "          u\"\\U0001F680-\\U0001F6FF\"  # transport & map symbols\n",
    "          u\"\\U0001F1E0-\\U0001F1FF\"  # flags (iOS)\n",
    "                           \"]+\", flags=re.UNICODE)\n",
    "    return emoji_pattern.sub(r'', text)"
   ]
  },
  {
   "cell_type": "code",
   "execution_count": 6,
   "metadata": {},
   "outputs": [],
   "source": [
    "df['text']=df['text'].apply(clear_emoji)"
   ]
  },
  {
   "cell_type": "code",
   "execution_count": 7,
   "metadata": {},
   "outputs": [],
   "source": [
    "import numpy as np\n",
    "import gensim"
   ]
  },
  {
   "cell_type": "code",
   "execution_count": 8,
   "metadata": {},
   "outputs": [],
   "source": [
    "from gensim.utils import simple_preprocess\n",
    "from gensim.parsing.preprocessing import STOPWORDS\n",
    "from gensim import corpora\n",
    "\n",
    "from gensim.models.ldamulticore import LdaMulticore\n",
    "\n"
   ]
  },
  {
   "cell_type": "code",
   "execution_count": 9,
   "metadata": {},
   "outputs": [],
   "source": [
    "import spacy"
   ]
  },
  {
   "cell_type": "code",
   "execution_count": 10,
   "metadata": {},
   "outputs": [],
   "source": [
    "\n",
    "from spacy.tokenizer import Tokenizer"
   ]
  },
  {
   "cell_type": "code",
   "execution_count": 11,
   "metadata": {},
   "outputs": [],
   "source": [
    "nlp = spacy.load(\"en_core_web_lg\")\n",
    "\n",
    "# Tokenizer\n",
    "tokenizer = Tokenizer(nlp.vocab)"
   ]
  },
  {
   "cell_type": "code",
   "execution_count": 12,
   "metadata": {},
   "outputs": [],
   "source": [
    "\n",
    "STOP_WORDS = nlp.Defaults.stop_words.union(['&amp;',\"don't\",\"i'm\",\"i've\",\"it’s\",\"&gt;\",\"i’m\",'de','la','que','un','=','con','y','like',\"you're\",'en','el','thank','+',\"don’t\",\"it's\",\"⦁\",\"we're\",'d…','los','fucking','para','del',\"here's\",\"can't\",\"aren’t\"])\n"
   ]
  },
  {
   "cell_type": "code",
   "execution_count": 13,
   "metadata": {},
   "outputs": [],
   "source": [
    "tokens = []\n",
    "\n",
    "\"\"\" Update those tokens w/o stopwords\"\"\"\n",
    "for doc in tokenizer.pipe(df['text'], batch_size=500):\n",
    "    \n",
    "    doc_tokens = []\n",
    "    \n",
    "    for token in doc:\n",
    "        if (token.text.lower() not in STOP_WORDS) & (token.is_punct == False) & (token.is_space == False):\n",
    "            doc_tokens.append(token.text.lower())\n",
    "\n",
    "    tokens.append(doc_tokens)\n",
    "\n",
    "df['tokens'] = tokens"
   ]
  },
  {
   "cell_type": "code",
   "execution_count": 14,
   "metadata": {},
   "outputs": [],
   "source": [
    "id2word = corpora.Dictionary(df['tokens'])"
   ]
  },
  {
   "cell_type": "code",
   "execution_count": 15,
   "metadata": {},
   "outputs": [],
   "source": [
    "corpus = [id2word.doc2bow(text) for text in df['tokens']]"
   ]
  },
  {
   "cell_type": "code",
   "execution_count": 16,
   "metadata": {},
   "outputs": [],
   "source": [
    "lda = LdaMulticore(corpus=corpus,\n",
    "                   id2word=id2word,\n",
    "                   random_state=723812,\n",
    "                   num_topics = 15,\n",
    "                   passes=10,\n",
    "                   workers=8\n",
    "                  )"
   ]
  },
  {
   "cell_type": "code",
   "execution_count": 17,
   "metadata": {},
   "outputs": [
    {
     "data": {
      "text/plain": [
       "[(0,\n",
       "  '0.003*\"new\" + 0.003*\"good\" + 0.002*\"data\" + 0.002*\"learn\" + 0.002*\"learning\" + 0.002*\"going\" + 0.002*\"morning\" + 0.002*\"got\" + 0.002*\"people\" + 0.002*\"time\"'),\n",
       " (1,\n",
       "  '0.005*\"data\" + 0.003*\"today\" + 0.002*\"new\" + 0.002*\"years\" + 0.002*\"going\" + 0.002*\"sure\" + 0.002*\"lot\" + 0.002*\"lo\" + 0.002*\"world\" + 0.002*\"t…\"'),\n",
       " (2,\n",
       "  '0.003*\"people\" + 0.003*\"new\" + 0.002*\"data\" + 0.002*\"free\" + 0.002*\"great\" + 0.002*\"today\" + 0.002*\"machine\" + 0.002*\"las\" + 0.002*\"day\" + 0.002*\"want\"'),\n",
       " (3,\n",
       "  '0.003*\"need\" + 0.003*\"data\" + 0.002*\"#ai\" + 0.002*\"new\" + 0.002*\"use\" + 0.002*\"covid-19\" + 0.002*\"order\" + 0.002*\"work\" + 0.002*\"going\" + 0.002*\"people\"'),\n",
       " (4,\n",
       "  '0.002*\"day\" + 0.002*\"place\" + 0.002*\"world\" + 0.002*\"r\" + 0.002*\"learning\" + 0.001*\"covid-19\" + 0.001*\"research\" + 0.001*\"let\\'s\" + 0.001*\"know\" + 0.001*\"time\"'),\n",
       " (5,\n",
       "  '0.003*\"love\" + 0.003*\"ibm\" + 0.003*\"|\" + 0.003*\"new\" + 0.003*\"good\" + 0.002*\"people\" + 0.002*\"social\" + 0.002*\"favorite\" + 0.002*\"excited\" + 0.002*\"things\"'),\n",
       " (6,\n",
       "  '0.004*\"new\" + 0.003*\"need\" + 0.003*\"covid-19\" + 0.002*\"want\" + 0.002*\"learning\" + 0.002*\"working\" + 0.002*\"day\" + 0.002*\"machine\" + 0.002*\"good\" + 0.002*\"it.\"'),\n",
       " (7,\n",
       "  '0.004*\"new\" + 0.002*\"data\" + 0.002*\"use\" + 0.002*\"want\" + 0.002*\"great\" + 0.002*\"people\" + 0.002*\"experience\" + 0.002*\"lot\" + 0.002*\"today\" + 0.002*\"got\"'),\n",
       " (8,\n",
       "  '0.003*\"new\" + 0.003*\"work\" + 0.003*\"data\" + 0.002*\"people\" + 0.002*\"thanks\" + 0.002*\"2\" + 0.002*\"play\" + 0.002*\"world\" + 0.002*\"use\" + 0.002*\"end\"'),\n",
       " (9,\n",
       "  '0.004*\"people\" + 0.003*\"think\" + 0.002*\"know\" + 0.002*\"new\" + 0.002*\"time\" + 0.002*\"spent\" + 0.002*\"data\" + 0.002*\"of…\" + 0.002*\"way\" + 0.002*\"python\"'),\n",
       " (10,\n",
       "  '0.002*\"love\" + 0.002*\"code\" + 0.002*\"people\" + 0.002*\"day\" + 0.002*\"heard\" + 0.002*\"best\" + 0.002*\"más\" + 0.002*\"por\" + 0.002*\"new\" + 0.001*\"good\"'),\n",
       " (11,\n",
       "  '0.003*\"best\" + 0.003*\"great\" + 0.002*\"way\" + 0.002*\"i’ve\" + 0.002*\"new\" + 0.002*\"home\" + 0.002*\"today,\" + 0.001*\"build\" + 0.001*\"today.\" + 0.001*\"remote\"'),\n",
       " (12,\n",
       "  '0.003*\"game\" + 0.002*\"working\" + 0.002*\"days\" + 0.002*\"people\" + 0.002*\"coronavirus\" + 0.002*\"me,\" + 0.002*\"start\" + 0.002*\"free\" + 0.002*\"die\" + 0.002*\"use\"'),\n",
       " (13,\n",
       "  '0.004*\"time\" + 0.003*\"learning\" + 0.003*\"#ai\" + 0.002*\"data\" + 0.002*\"people\" + 0.002*\"got\" + 0.002*\"machine\" + 0.002*\"born\" + 0.002*\"#machinelearning\" + 0.001*\"making\"'),\n",
       " (14,\n",
       "  '0.008*\"people\" + 0.003*\"data\" + 0.002*\"know\" + 0.002*\"time\" + 0.002*\"⠀\" + 0.002*\"#covid19\" + 0.002*\"need\" + 0.002*\"las\" + 0.002*\"better\" + 0.002*\"good\"')]"
      ]
     },
     "execution_count": 17,
     "metadata": {},
     "output_type": "execute_result"
    }
   ],
   "source": [
    "lda.print_topics()"
   ]
  },
  {
   "cell_type": "code",
   "execution_count": 18,
   "metadata": {},
   "outputs": [],
   "source": [
    "words = [re.findall(r'\"([^\"]*)\"',t[1]) for t in lda.print_topics()]"
   ]
  },
  {
   "cell_type": "code",
   "execution_count": 19,
   "metadata": {},
   "outputs": [],
   "source": [
    "\n",
    "topics = [' '.join(t[0:5]) for t in words]"
   ]
  },
  {
   "cell_type": "code",
   "execution_count": 20,
   "metadata": {},
   "outputs": [
    {
     "name": "stdout",
     "output_type": "stream",
     "text": [
      "------ Topic 0 ------\n",
      "new good data learn learning\n",
      "\n",
      "------ Topic 1 ------\n",
      "data today new years going\n",
      "\n",
      "------ Topic 2 ------\n",
      "people new data free great\n",
      "\n",
      "------ Topic 3 ------\n",
      "need data #ai new use\n",
      "\n",
      "------ Topic 4 ------\n",
      "day place world r learning\n",
      "\n",
      "------ Topic 5 ------\n",
      "love ibm | new good\n",
      "\n",
      "------ Topic 6 ------\n",
      "new need covid-19 want learning\n",
      "\n",
      "------ Topic 7 ------\n",
      "new data use want great\n",
      "\n",
      "------ Topic 8 ------\n",
      "new work data people thanks\n",
      "\n",
      "------ Topic 9 ------\n",
      "people think know new time\n",
      "\n",
      "------ Topic 10 ------\n",
      "love code people day heard\n",
      "\n",
      "------ Topic 11 ------\n",
      "best great way i’ve new\n",
      "\n",
      "------ Topic 12 ------\n",
      "game working days people coronavirus\n",
      "\n",
      "------ Topic 13 ------\n",
      "time learning #ai data people\n",
      "\n",
      "------ Topic 14 ------\n",
      "people data know time ⠀\n",
      "\n"
     ]
    }
   ],
   "source": [
    "for id, t in enumerate(topics): \n",
    "    print(f\"------ Topic {id} ------\")\n",
    "    print(t, end=\"\\n\\n\")"
   ]
  },
  {
   "cell_type": "code",
   "execution_count": null,
   "metadata": {},
   "outputs": [],
   "source": []
  },
  {
   "cell_type": "code",
   "execution_count": null,
   "metadata": {},
   "outputs": [],
   "source": []
  },
  {
   "cell_type": "code",
   "execution_count": null,
   "metadata": {},
   "outputs": [],
   "source": []
  }
 ],
 "metadata": {
  "kernelspec": {
   "display_name": "U4-S1-NLP",
   "language": "python",
   "name": "u4-s1-nlp"
  },
  "language_info": {
   "codemirror_mode": {
    "name": "ipython",
    "version": 3
   },
   "file_extension": ".py",
   "mimetype": "text/x-python",
   "name": "python",
   "nbconvert_exporter": "python",
   "pygments_lexer": "ipython3",
   "version": "3.7.0"
  }
 },
 "nbformat": 4,
 "nbformat_minor": 4
}
