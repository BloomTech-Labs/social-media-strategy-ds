{
  "nbformat": 4,
  "nbformat_minor": 0,
  "metadata": {
    "kernelspec": {
      "display_name": "U4-S1-NLP (Python3)",
      "language": "python",
      "name": "u4-s1-nlp"
    },
    "language_info": {
      "codemirror_mode": {
        "name": "ipython",
        "version": 3
      },
      "file_extension": ".py",
      "mimetype": "text/x-python",
      "name": "python",
      "nbconvert_exporter": "python",
      "pygments_lexer": "ipython3",
      "version": "3.7.0"
    },
    "colab": {
      "name": "pep8 of sentiment_analysis.ipynb",
      "provenance": [],
      "collapsed_sections": []
    }
  },
  "cells": [
    {
      "cell_type": "code",
      "metadata": {
        "id": "47TikKbQFn5J",
        "colab_type": "code",
        "colab": {}
      },
      "source": [
        "# Imports\n",
        "from bs4 import BeautifulSoup\n",
        "from collections import Counter\n",
        "from sklearn.decomposition import PCA\n",
        "from sklearn.feature_extraction.text import CountVectorizer\n",
        "from sklearn.feature_extraction.text import CountVectorizer, TfidfVectorizer\n",
        "from sklearn.linear_model import LogisticRegression\n",
        "from sklearn.metrics import accuracy_score\n",
        "from sklearn.metrics.pairwise import cosine_similarity\n",
        "from sklearn.model_selection import train_test_split\n",
        "from sklearn.model_selection import train_test_split\n",
        "from sklearn.neighbors import NearestNeighbors\n",
        "from spacy.tokenizer import Tokenizer\n",
        "\n",
        "import matplotlib.pyplot as plt\n",
        "import numpy as np\n",
        "import pandas as pd\n",
        "import re\n",
        "import requests\n",
        "import seaborn as sns\n",
        "import spacy\n",
        "import squarify\n",
        "import string\n"
      ],
      "execution_count": 0,
      "outputs": []
    },
    {
      "cell_type": "code",
      "metadata": {
        "id": "7W3DgjnWFn5M",
        "colab_type": "code",
        "colab": {}
      },
      "source": [
        "# Load NLP\n",
        "nlp = spacy.load(\"en_core_web_lg\")\n",
        "\n",
        "# Read in CSV data\n",
        "df = pd.read_csv('get_follower_data.csv')\n",
        "\n",
        "# Alter the data\n",
        "df['text'] = df['text'].apply(\n",
        "    lambda x: x[2:-1].replace('\\\\n', ' ').replace('\\n\\n', ' ').replace(\n",
        "        '\\n', ' '))\n",
        "\n",
        "###                                ###\n",
        "# No idea why this was commented out #\n",
        "###                                ###\n",
        "\n",
        "# df['text'] = [BeautifulSoup(text).get_text() for text in df['text']]\n",
        "# df.head()\n"
      ],
      "execution_count": 0,
      "outputs": []
    },
    {
      "cell_type": "code",
      "metadata": {
        "id": "TSyUDIHJFn5a",
        "colab_type": "code",
        "colab": {}
      },
      "source": [
        "# Create tokenizer\n",
        "tokenizer = Tokenizer(nlp.vocab)\n",
        "\n",
        "# Esablish stopwords\n",
        "STOP_WORDS = nlp.Defaults.stop_words.union([' '])\n",
        "\n",
        "# Esablish SPANISH stopwords\n",
        "spanish_stop_words = ['de', 'e', 'la', 'le', 'que', 'y', 'el', 'un', 'r', 'en', \n",
        "                      'w', \"it's\", \"it’s\", 'u', \"i'm\"]"
      ],
      "execution_count": 0,
      "outputs": []
    },
    {
      "cell_type": "code",
      "metadata": {
        "id": "ORTxOHdtFn5k",
        "colab_type": "code",
        "colab": {}
      },
      "source": [
        "# Create tokens without stop, punct, pronouns or extended stop words\n",
        "\n",
        "tokens = []\n",
        "\n",
        "for doc in tokenizer.pipe(df['text'], batch_size=500):\n",
        "    \n",
        "    doc_tokens = []\n",
        "    \n",
        "    for token in doc:\n",
        "        if ((token.is_stop == False) and (token.is_punct == False) and\n",
        "            (token.pos_!= 'PRON') and token.text.lower() not in STOP_WORDS and\n",
        "            token.text.lower() not in spanish_stop_words):\n",
        "\n",
        "            doc_tokens.append(token.text.lower())\n",
        "\n",
        "    tokens.append(doc_tokens)\n",
        "\n",
        "# Make column of tokens\n",
        "df['tokens'] = tokens"
      ],
      "execution_count": 0,
      "outputs": []
    },
    {
      "cell_type": "code",
      "metadata": {
        "id": "-xOzlux_Fn5m",
        "colab_type": "code",
        "colab": {}
      },
      "source": [
        "def count(docs):\n",
        "  \"\"\"\n",
        "  When called on the tokens column, this shows which words are the most \n",
        "  popular in the corpus\n",
        "  \"\"\"\n",
        "\n",
        "        word_counts = Counter()\n",
        "        appears_in = Counter()\n",
        "        \n",
        "        total_docs = len(docs)\n",
        "\n",
        "        for doc in docs:\n",
        "            word_counts.update(doc)\n",
        "            appears_in.update(set(doc))\n",
        "\n",
        "        temp = zip(word_counts.keys(), word_counts.values())\n",
        "        \n",
        "        wc = pd.DataFrame(temp, columns = ['word', 'count'])\n",
        "\n",
        "        wc['rank'] = wc['count'].rank(method='first', ascending=False)\n",
        "        total = wc['count'].sum()\n",
        "\n",
        "        wc['pct_total'] = wc['count'].apply(lambda x: x / total)\n",
        "        \n",
        "        wc = wc.sort_values(by='rank')\n",
        "        wc['cul_pct_total'] = wc['pct_total'].cumsum()\n",
        "\n",
        "        t2 = zip(appears_in.keys(), appears_in.values())\n",
        "        ac = pd.DataFrame(t2, columns=['word', 'appears_in'])\n",
        "        wc = ac.merge(wc, on='word')\n",
        "\n",
        "        wc['appears_in_pct'] = wc['appears_in'].apply(lambda x: x / total_docs)\n",
        "        \n",
        "        return wc.sort_values(by='rank')\n",
        "\n",
        "# Apply ^^ and see the top 20 words\n",
        "wc = count(df['tokens'])\n",
        "wc.head(20)"
      ],
      "execution_count": 0,
      "outputs": []
    },
    {
      "cell_type": "code",
      "metadata": {
        "id": "9AsZ3aP2Fn5q",
        "colab_type": "code",
        "outputId": "a330b94f-dde5-4c6e-d220-b9bbe021951e",
        "colab": {}
      },
      "source": [
        "# See the top 20 words in squarify graph\n",
        "wc_top20 = wc[wc['rank'] <= 20]\n",
        "squarify.plot(sizes=wc_top20['pct_total'], label=wc_top20['word'], alpha=.7 )\n",
        "plt.axis('off')\n",
        "plt.show()"
      ],
      "execution_count": 0,
      "outputs": [
        {
          "output_type": "display_data",
          "data": {
            "image/png": "[encoded data removed]",
            "text/plain": [
              "<Figure size 432x288 with 1 Axes>"
            ]
          },
          "metadata": {
            "tags": [],
            "needs_background": "light"
          }
        }
      ]
    },
    {
      "cell_type": "markdown",
      "metadata": {
        "id": "FQYkRnYXFn5s",
        "colab_type": "text"
      },
      "source": [
        "## Word count per tweet"
      ]
    },
    {
      "cell_type": "code",
      "metadata": {
        "id": "J3buzC0tFn5s",
        "colab_type": "code",
        "colab": {}
      },
      "source": [
        "def tokenize(document):\n",
        "  \"\"\"\n",
        "  Tokenize and lemma\n",
        "  \"\"\"\n",
        "    \n",
        "    doc = nlp(document)\n",
        "    \n",
        "    return [token.lemma_.strip() for token in doc if (token.is_stop != True) and\n",
        "            (token.is_punct != True)]\n",
        "            "
      ],
      "execution_count": 0,
      "outputs": []
    },
    {
      "cell_type": "code",
      "metadata": {
        "id": "nJs4B72UFn5u",
        "colab_type": "code",
        "outputId": "2948524a-e7ea-42bb-8327-536d29ef5cee",
        "colab": {}
      },
      "source": [
        "# Tunning Parameters\n",
        "\n",
        "# Instantiate vectorizer object\n",
        "tfidf = TfidfVectorizer(stop_words='english', \n",
        "                        ngram_range=(1,2),\n",
        "                        max_df=.97,\n",
        "                        min_df=3,\n",
        "                        tokenizer=tokenize)\n",
        "\n",
        "# Create a vocabulary and get word counts per document\n",
        "dtm = tfidf.fit_transform(df['text']) # Similiar to fit_predict\n",
        "\n",
        "# Print word counts\n",
        "\n",
        "# Get feature names to use as dataframe column headers\n",
        "dtm = pd.DataFrame(dtm.todense(), columns=tfidf.get_feature_names())\n",
        "\n",
        "# View Feature Matrix as DataFrame\n",
        "dtm.head()"
      ],
      "execution_count": 0,
      "outputs": [
        {
          "output_type": "execute_result",
          "data": {
            "text/html": [
              "<div>\n",
              "<style scoped>\n",
              "    .dataframe tbody tr th:only-of-type {\n",
              "        vertical-align: middle;\n",
              "    }\n",
              "\n",
              "    .dataframe tbody tr th {\n",
              "        vertical-align: top;\n",
              "    }\n",
              "\n",
              "    .dataframe thead th {\n",
              "        text-align: right;\n",
              "    }\n",
              "</style>\n",
              "<table border=\"1\" class=\"dataframe\">\n",
              "  <thead>\n",
              "    <tr style=\"text-align: right;\">\n",
              "      <th></th>\n",
              "      <th></th>\n",
              "      <th></th>\n",
              "      <th>$</th>\n",
              "      <th>-PRON-</th>\n",
              "      <th>1</th>\n",
              "      <th>100daysofcode</th>\n",
              "      <th>2</th>\n",
              "      <th>2014</th>\n",
              "      <th>2018</th>\n",
              "      <th>2020</th>\n",
              "      <th>...</th>\n",
              "      <th>🦋</th>\n",
              "      <th>🦠</th>\n",
              "      <th>🧐</th>\n",
              "      <th>🧠</th>\n",
              "      <th>🧡</th>\n",
              "      <th>🧢</th>\n",
              "      <th>🧢 https://t.co/8qi9mfljd</th>\n",
              "      <th>🧢 🧢</th>\n",
              "      <th>🧶</th>\n",
              "      <th>🧶 https://t.co/rahrmjbcu</th>\n",
              "    </tr>\n",
              "  </thead>\n",
              "  <tbody>\n",
              "    <tr>\n",
              "      <th>0</th>\n",
              "      <td>0.127498</td>\n",
              "      <td>0.0</td>\n",
              "      <td>0.0</td>\n",
              "      <td>0.0</td>\n",
              "      <td>0.0</td>\n",
              "      <td>0.0</td>\n",
              "      <td>0.0</td>\n",
              "      <td>0.0</td>\n",
              "      <td>0.0</td>\n",
              "      <td>0.0</td>\n",
              "      <td>...</td>\n",
              "      <td>0.0</td>\n",
              "      <td>0.0</td>\n",
              "      <td>0.0</td>\n",
              "      <td>0.0</td>\n",
              "      <td>0.0</td>\n",
              "      <td>0.0</td>\n",
              "      <td>0.0</td>\n",
              "      <td>0.0</td>\n",
              "      <td>0.0</td>\n",
              "      <td>0.0</td>\n",
              "    </tr>\n",
              "    <tr>\n",
              "      <th>1</th>\n",
              "      <td>0.103653</td>\n",
              "      <td>0.0</td>\n",
              "      <td>0.0</td>\n",
              "      <td>0.0</td>\n",
              "      <td>0.0</td>\n",
              "      <td>0.0</td>\n",
              "      <td>0.0</td>\n",
              "      <td>0.0</td>\n",
              "      <td>0.0</td>\n",
              "      <td>0.0</td>\n",
              "      <td>...</td>\n",
              "      <td>0.0</td>\n",
              "      <td>0.0</td>\n",
              "      <td>0.0</td>\n",
              "      <td>0.0</td>\n",
              "      <td>0.0</td>\n",
              "      <td>0.0</td>\n",
              "      <td>0.0</td>\n",
              "      <td>0.0</td>\n",
              "      <td>0.0</td>\n",
              "      <td>0.0</td>\n",
              "    </tr>\n",
              "    <tr>\n",
              "      <th>2</th>\n",
              "      <td>0.000000</td>\n",
              "      <td>0.0</td>\n",
              "      <td>0.0</td>\n",
              "      <td>0.0</td>\n",
              "      <td>0.0</td>\n",
              "      <td>0.0</td>\n",
              "      <td>0.0</td>\n",
              "      <td>0.0</td>\n",
              "      <td>0.0</td>\n",
              "      <td>0.0</td>\n",
              "      <td>...</td>\n",
              "      <td>0.0</td>\n",
              "      <td>0.0</td>\n",
              "      <td>0.0</td>\n",
              "      <td>0.0</td>\n",
              "      <td>0.0</td>\n",
              "      <td>0.0</td>\n",
              "      <td>0.0</td>\n",
              "      <td>0.0</td>\n",
              "      <td>0.0</td>\n",
              "      <td>0.0</td>\n",
              "    </tr>\n",
              "    <tr>\n",
              "      <th>3</th>\n",
              "      <td>0.000000</td>\n",
              "      <td>0.0</td>\n",
              "      <td>0.0</td>\n",
              "      <td>0.0</td>\n",
              "      <td>0.0</td>\n",
              "      <td>0.0</td>\n",
              "      <td>0.0</td>\n",
              "      <td>0.0</td>\n",
              "      <td>0.0</td>\n",
              "      <td>0.0</td>\n",
              "      <td>...</td>\n",
              "      <td>0.0</td>\n",
              "      <td>0.0</td>\n",
              "      <td>0.0</td>\n",
              "      <td>0.0</td>\n",
              "      <td>0.0</td>\n",
              "      <td>0.0</td>\n",
              "      <td>0.0</td>\n",
              "      <td>0.0</td>\n",
              "      <td>0.0</td>\n",
              "      <td>0.0</td>\n",
              "    </tr>\n",
              "    <tr>\n",
              "      <th>4</th>\n",
              "      <td>0.000000</td>\n",
              "      <td>0.0</td>\n",
              "      <td>0.0</td>\n",
              "      <td>0.0</td>\n",
              "      <td>0.0</td>\n",
              "      <td>0.0</td>\n",
              "      <td>0.0</td>\n",
              "      <td>0.0</td>\n",
              "      <td>0.0</td>\n",
              "      <td>0.0</td>\n",
              "      <td>...</td>\n",
              "      <td>0.0</td>\n",
              "      <td>0.0</td>\n",
              "      <td>0.0</td>\n",
              "      <td>0.0</td>\n",
              "      <td>0.0</td>\n",
              "      <td>0.0</td>\n",
              "      <td>0.0</td>\n",
              "      <td>0.0</td>\n",
              "      <td>0.0</td>\n",
              "      <td>0.0</td>\n",
              "    </tr>\n",
              "  </tbody>\n",
              "</table>\n",
              "<p>5 rows × 10492 columns</p>\n",
              "</div>"
            ],
            "text/plain": [
              "                    $   -PRON-    1   100daysofcode    2   2014   2018   2020  \\\n",
              "0  0.127498  0.0  0.0      0.0  0.0             0.0  0.0    0.0    0.0    0.0   \n",
              "1  0.103653  0.0  0.0      0.0  0.0             0.0  0.0    0.0    0.0    0.0   \n",
              "2  0.000000  0.0  0.0      0.0  0.0             0.0  0.0    0.0    0.0    0.0   \n",
              "3  0.000000  0.0  0.0      0.0  0.0             0.0  0.0    0.0    0.0    0.0   \n",
              "4  0.000000  0.0  0.0      0.0  0.0             0.0  0.0    0.0    0.0    0.0   \n",
              "\n",
              "   ...    🦋    🦠    🧐    🧠    🧡    🧢  🧢 https://t.co/8qi9mfljd  🧢 🧢    🧶  \\\n",
              "0  ...  0.0  0.0  0.0  0.0  0.0  0.0                       0.0  0.0  0.0   \n",
              "1  ...  0.0  0.0  0.0  0.0  0.0  0.0                       0.0  0.0  0.0   \n",
              "2  ...  0.0  0.0  0.0  0.0  0.0  0.0                       0.0  0.0  0.0   \n",
              "3  ...  0.0  0.0  0.0  0.0  0.0  0.0                       0.0  0.0  0.0   \n",
              "4  ...  0.0  0.0  0.0  0.0  0.0  0.0                       0.0  0.0  0.0   \n",
              "\n",
              "   🧶 https://t.co/rahrmjbcu  \n",
              "0                       0.0  \n",
              "1                       0.0  \n",
              "2                       0.0  \n",
              "3                       0.0  \n",
              "4                       0.0  \n",
              "\n",
              "[5 rows x 10492 columns]"
            ]
          },
          "metadata": {
            "tags": []
          },
          "execution_count": 154
        }
      ]
    },
    {
      "cell_type": "code",
      "metadata": {
        "id": "JDA-QAVIFn5w",
        "colab_type": "code",
        "outputId": "fdd41ab5-67c6-43aa-b376-1fdbb4cd3dd5",
        "colab": {}
      },
      "source": [
        "# Visualizing the lenth of characters.\n",
        "doc_len = [len(doc) for doc in df['text']]\n",
        "\n",
        "sns.distplot(doc_len);\n",
        " "
      ],
      "execution_count": 0,
      "outputs": [
        {
          "output_type": "display_data",
          "data": {
            "image/png": "[encoded data removed]",
            "text/plain": [
              "<Figure size 432x288 with 1 Axes>"
            ]
          },
          "metadata": {
            "tags": [],
            "needs_background": "light"
          }
        }
      ]
    },
    {
      "cell_type": "markdown",
      "metadata": {
        "id": "CX3gPsOBFn54",
        "colab_type": "text"
      },
      "source": [
        "## Sentiment Analysis\n"
      ]
    },
    {
      "cell_type": "code",
      "metadata": {
        "id": "ODwfx90nFn55",
        "colab_type": "code",
        "colab": {}
      },
      "source": [
        "# Reread in the data\n",
        "df = pd.read_csv('get_follower_data.csv')\n",
        "\n",
        "# Train/test split\n",
        "train, test = train_test_split(df.text, train_size = 0.5)\n"
      ],
      "execution_count": 0,
      "outputs": []
    },
    {
      "cell_type": "code",
      "metadata": {
        "id": "wYWUCS8DFn6A",
        "colab_type": "code",
        "colab": {}
      },
      "source": [
        "# Remove unwanted characters\n",
        "REPLACE_NO_SPACE = re.compile(\"[.;:!\\'?,\\\"()\\[\\]]\")\n",
        "REPLACE_WITH_SPACE = re.compile(\"(<br\\s*/><br\\s*/>)|(\\-)|(\\/)\")\n",
        "\n",
        "def preprocess_reviews(reviews):\n",
        "  \"\"\" Put the words back together\"\"\"\n",
        "    reviews = [REPLACE_NO_SPACE.sub(\"\", line.lower()) for line in reviews]\n",
        "    reviews = [REPLACE_WITH_SPACE.sub(\" \", line) for line in reviews]\n",
        "    \n",
        "    return reviews\n",
        "\n",
        "reviews_train_clean = preprocess_reviews(train)\n",
        "reviews_test_clean = preprocess_reviews(test)\n"
      ],
      "execution_count": 0,
      "outputs": []
    },
    {
      "cell_type": "code",
      "metadata": {
        "id": "DkyOkYj5Fn6C",
        "colab_type": "code",
        "colab": {}
      },
      "source": [
        "# Vectorize\n",
        "cv = CountVectorizer(binary=True)\n",
        "cv.fit(reviews_train_clean)\n",
        "X = cv.transform(reviews_train_clean)\n",
        "X_test = cv.transform(reviews_test_clean)\n"
      ],
      "execution_count": 0,
      "outputs": []
    },
    {
      "cell_type": "code",
      "metadata": {
        "id": "XcU74mZnFn6E",
        "colab_type": "code",
        "colab": {}
      },
      "source": [
        "# Assign target\n",
        "target = [1 if i < 4080 else 0 for i in range(8161)]\n",
        "\n",
        "# Create validation set\n",
        "X_train, X_val, y_train, y_val = train_test_split(\n",
        "    X, target, train_size = 0.75\n",
        ")\n",
        "\n",
        "# Score each string\n",
        "for c in [0.01, 0.05, 0.25, 0.5, 1]:\n",
        "    lr = LogisticRegression(C=c)\n",
        "    lr.fit(X_train, y_train)\n",
        "    print (\"Accuracy for C=%s: %s\" \n",
        "           % (c, accuracy_score(y_val, lr.predict(X_val))))\n",
        "    "
      ],
      "execution_count": 0,
      "outputs": []
    },
    {
      "cell_type": "code",
      "metadata": {
        "id": "_PpAaaMsFn6G",
        "colab_type": "code",
        "outputId": "2af643e5-fdda-441f-9c5d-6a5cddb7c41b",
        "colab": {}
      },
      "source": [
        "# Fit the model\n",
        "final_model = LogisticRegression(C=0.05)\n",
        "final_model.fit(X, target)\n",
        "final_model = LogisticRegression(C=0.05)\n",
        "final_model.fit(X, target)\n",
        "\n",
        "# Print prediction\n",
        "print (\"Final Accuracy: %s\" \n",
        "       % accuracy_score(target, final_model.predict(X_test)))\n"
      ],
      "execution_count": 0,
      "outputs": [
        {
          "output_type": "stream",
          "text": [
            "Final Accuracy: 0.5030020830780542\n"
          ],
          "name": "stdout"
        }
      ]
    },
    {
      "cell_type": "code",
      "metadata": {
        "id": "gOgsADK7Fn6I",
        "colab_type": "code",
        "outputId": "eaf251ea-5e86-4516-8de4-6ebb5a94c337",
        "colab": {}
      },
      "source": [
        "# Score each word\n",
        "feature_to_coef = {\n",
        "    word: coef for word, coef in zip(\n",
        "        cv.get_feature_names(), final_model.coef_[0]\n",
        "    )\n",
        "}\n",
        "print('Positive')\n",
        "for best_positive in sorted(\n",
        "    feature_to_coef.items(), \n",
        "    key=lambda x: x[1], \n",
        "    reverse=True)[:5]:\n",
        "    print (best_positive)\n",
        "\n",
        "print('Negative')\n",
        "for best_negative in sorted(\n",
        "    feature_to_coef.items(), \n",
        "    key=lambda x: x[1])[:5]:\n",
        "    print (best_negative)\n",
        "    "
      ],
      "execution_count": 0,
      "outputs": [
        {
          "output_type": "stream",
          "text": [
            "Positive\n",
            "('come', 0.37739485673234374)\n",
            "('blog', 0.30891906869965635)\n",
            "('still', 0.3001942623358227)\n",
            "('ll', 0.2990590020961237)\n",
            "('way', 0.27535262285660206)\n",
            "Negative\n",
            "('days', -0.4742626357977561)\n",
            "('believe', -0.3519561329005742)\n",
            "('times', -0.29235112701129595)\n",
            "('didnt', -0.2594849867415561)\n",
            "('companies', -0.24770755300989453)\n"
          ],
          "name": "stdout"
        }
      ]
    }
  ]
}